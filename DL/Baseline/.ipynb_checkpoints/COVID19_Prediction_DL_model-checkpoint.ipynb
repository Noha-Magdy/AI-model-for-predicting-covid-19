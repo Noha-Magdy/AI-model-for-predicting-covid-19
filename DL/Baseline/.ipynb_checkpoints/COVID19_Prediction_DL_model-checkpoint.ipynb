{
 "cells": [
  {
   "cell_type": "markdown",
   "metadata": {
    "colab_type": "text",
    "id": "6VoXlr_vnVAl"
   },
   "source": [
    "### Preparing the Data"
   ]
  },
  {
   "cell_type": "code",
   "execution_count": 1,
   "metadata": {
    "colab": {},
    "colab_type": "code",
    "id": "LmudKMMLAZlT"
   },
   "outputs": [],
   "source": [
    "import requests\n",
    "import json\n",
    "\n",
    "url = 'https://api.thevirustracker.com/free-api?countryTimeline=EG'\n",
    "\n",
    "x = requests.post(url) \n",
    "\n",
    "#print (x.content)\n",
    "Data= json.loads(x.content)['timelineitems'][0]\n",
    " "
   ]
  },
  {
   "cell_type": "code",
   "execution_count": 2,
   "metadata": {
    "colab": {
     "base_uri": "https://localhost:8080/",
     "height": 251
    },
    "colab_type": "code",
    "id": "I5dOjMvFDkDa",
    "outputId": "f6ddf387-9890-4a13-bb1e-dc81a53cea83"
   },
   "outputs": [
    {
     "data": {
      "text/html": [
       "<div>\n",
       "<style scoped>\n",
       "    .dataframe tbody tr th:only-of-type {\n",
       "        vertical-align: middle;\n",
       "    }\n",
       "\n",
       "    .dataframe tbody tr th {\n",
       "        vertical-align: top;\n",
       "    }\n",
       "\n",
       "    .dataframe thead th {\n",
       "        text-align: right;\n",
       "    }\n",
       "</style>\n",
       "<table border=\"1\" class=\"dataframe\">\n",
       "  <thead>\n",
       "    <tr style=\"text-align: right;\">\n",
       "      <th></th>\n",
       "      <th>2/14/20</th>\n",
       "      <th>2/15/20</th>\n",
       "      <th>2/16/20</th>\n",
       "      <th>2/17/20</th>\n",
       "      <th>2/18/20</th>\n",
       "      <th>2/19/20</th>\n",
       "      <th>2/20/20</th>\n",
       "      <th>2/21/20</th>\n",
       "      <th>2/22/20</th>\n",
       "      <th>2/23/20</th>\n",
       "      <th>...</th>\n",
       "      <th>7/18/20</th>\n",
       "      <th>7/19/20</th>\n",
       "      <th>7/20/20</th>\n",
       "      <th>7/21/20</th>\n",
       "      <th>7/22/20</th>\n",
       "      <th>7/23/20</th>\n",
       "      <th>7/24/20</th>\n",
       "      <th>7/25/20</th>\n",
       "      <th>7/26/20</th>\n",
       "      <th>stat</th>\n",
       "    </tr>\n",
       "  </thead>\n",
       "  <tbody>\n",
       "    <tr>\n",
       "      <td>new_daily_cases</td>\n",
       "      <td>1</td>\n",
       "      <td>0</td>\n",
       "      <td>0</td>\n",
       "      <td>0</td>\n",
       "      <td>0</td>\n",
       "      <td>0</td>\n",
       "      <td>0</td>\n",
       "      <td>0</td>\n",
       "      <td>0</td>\n",
       "      <td>0</td>\n",
       "      <td>...</td>\n",
       "      <td>698</td>\n",
       "      <td>603</td>\n",
       "      <td>627</td>\n",
       "      <td>676</td>\n",
       "      <td>667</td>\n",
       "      <td>668</td>\n",
       "      <td>659</td>\n",
       "      <td>511</td>\n",
       "      <td>479</td>\n",
       "      <td>ok</td>\n",
       "    </tr>\n",
       "    <tr>\n",
       "      <td>new_daily_deaths</td>\n",
       "      <td>0</td>\n",
       "      <td>0</td>\n",
       "      <td>0</td>\n",
       "      <td>0</td>\n",
       "      <td>0</td>\n",
       "      <td>0</td>\n",
       "      <td>0</td>\n",
       "      <td>0</td>\n",
       "      <td>0</td>\n",
       "      <td>0</td>\n",
       "      <td>...</td>\n",
       "      <td>63</td>\n",
       "      <td>51</td>\n",
       "      <td>50</td>\n",
       "      <td>47</td>\n",
       "      <td>41</td>\n",
       "      <td>40</td>\n",
       "      <td>38</td>\n",
       "      <td>40</td>\n",
       "      <td>48</td>\n",
       "      <td>ok</td>\n",
       "    </tr>\n",
       "    <tr>\n",
       "      <td>total_cases</td>\n",
       "      <td>1</td>\n",
       "      <td>1</td>\n",
       "      <td>1</td>\n",
       "      <td>1</td>\n",
       "      <td>1</td>\n",
       "      <td>1</td>\n",
       "      <td>1</td>\n",
       "      <td>1</td>\n",
       "      <td>1</td>\n",
       "      <td>1</td>\n",
       "      <td>...</td>\n",
       "      <td>87172</td>\n",
       "      <td>87775</td>\n",
       "      <td>88402</td>\n",
       "      <td>89078</td>\n",
       "      <td>89745</td>\n",
       "      <td>90413</td>\n",
       "      <td>91072</td>\n",
       "      <td>91583</td>\n",
       "      <td>92062</td>\n",
       "      <td>ok</td>\n",
       "    </tr>\n",
       "    <tr>\n",
       "      <td>total_recoveries</td>\n",
       "      <td>0</td>\n",
       "      <td>0</td>\n",
       "      <td>0</td>\n",
       "      <td>0</td>\n",
       "      <td>0</td>\n",
       "      <td>0</td>\n",
       "      <td>0</td>\n",
       "      <td>0</td>\n",
       "      <td>0</td>\n",
       "      <td>0</td>\n",
       "      <td>...</td>\n",
       "      <td>21718</td>\n",
       "      <td>21718</td>\n",
       "      <td>21718</td>\n",
       "      <td>21718</td>\n",
       "      <td>21718</td>\n",
       "      <td>21718</td>\n",
       "      <td>21718</td>\n",
       "      <td>21718</td>\n",
       "      <td>21718</td>\n",
       "      <td>ok</td>\n",
       "    </tr>\n",
       "    <tr>\n",
       "      <td>total_deaths</td>\n",
       "      <td>0</td>\n",
       "      <td>0</td>\n",
       "      <td>0</td>\n",
       "      <td>0</td>\n",
       "      <td>0</td>\n",
       "      <td>0</td>\n",
       "      <td>0</td>\n",
       "      <td>0</td>\n",
       "      <td>0</td>\n",
       "      <td>0</td>\n",
       "      <td>...</td>\n",
       "      <td>4251</td>\n",
       "      <td>4302</td>\n",
       "      <td>4352</td>\n",
       "      <td>4399</td>\n",
       "      <td>4440</td>\n",
       "      <td>4480</td>\n",
       "      <td>4518</td>\n",
       "      <td>4558</td>\n",
       "      <td>4606</td>\n",
       "      <td>ok</td>\n",
       "    </tr>\n",
       "  </tbody>\n",
       "</table>\n",
       "<p>5 rows × 165 columns</p>\n",
       "</div>"
      ],
      "text/plain": [
       "                  2/14/20  2/15/20  2/16/20  2/17/20  2/18/20  2/19/20  \\\n",
       "new_daily_cases         1        0        0        0        0        0   \n",
       "new_daily_deaths        0        0        0        0        0        0   \n",
       "total_cases             1        1        1        1        1        1   \n",
       "total_recoveries        0        0        0        0        0        0   \n",
       "total_deaths            0        0        0        0        0        0   \n",
       "\n",
       "                  2/20/20  2/21/20  2/22/20  2/23/20  ...  7/18/20  7/19/20  \\\n",
       "new_daily_cases         0        0        0        0  ...      698      603   \n",
       "new_daily_deaths        0        0        0        0  ...       63       51   \n",
       "total_cases             1        1        1        1  ...    87172    87775   \n",
       "total_recoveries        0        0        0        0  ...    21718    21718   \n",
       "total_deaths            0        0        0        0  ...     4251     4302   \n",
       "\n",
       "                  7/20/20  7/21/20  7/22/20  7/23/20  7/24/20  7/25/20  \\\n",
       "new_daily_cases       627      676      667      668      659      511   \n",
       "new_daily_deaths       50       47       41       40       38       40   \n",
       "total_cases         88402    89078    89745    90413    91072    91583   \n",
       "total_recoveries    21718    21718    21718    21718    21718    21718   \n",
       "total_deaths         4352     4399     4440     4480     4518     4558   \n",
       "\n",
       "                  7/26/20  stat  \n",
       "new_daily_cases       479    ok  \n",
       "new_daily_deaths       48    ok  \n",
       "total_cases         92062    ok  \n",
       "total_recoveries    21718    ok  \n",
       "total_deaths         4606    ok  \n",
       "\n",
       "[5 rows x 165 columns]"
      ]
     },
     "execution_count": 2,
     "metadata": {},
     "output_type": "execute_result"
    }
   ],
   "source": [
    "import pandas as pd\n",
    "import numpy as np\n",
    "\n",
    "data= pd.DataFrame(Data)\n",
    "data"
   ]
  },
  {
   "cell_type": "code",
   "execution_count": 3,
   "metadata": {
    "colab": {
     "base_uri": "https://localhost:8080/",
     "height": 583
    },
    "colab_type": "code",
    "id": "Z_gC8oTCFgnB",
    "outputId": "20a748a0-4577-42e8-880b-08e9b34d4871"
   },
   "outputs": [
    {
     "data": {
      "text/plain": [
       "array([-1.7689006 , -1.7720575 , -1.7720575 , -1.7720575 , -1.7720575 ,\n",
       "       -1.7720575 , -1.7720575 , -1.7720575 , -1.7720575 , -1.7720575 ,\n",
       "       -1.7720575 , -1.7720575 , -1.7720575 , -1.7720575 , -1.7720575 ,\n",
       "       -1.7720575 , -1.7689006 , -1.7720575 , -1.7720575 , -1.7720575 ,\n",
       "       -1.7689006 , -1.7341764 , -1.7720575 , -1.6647277 , -1.753117  ,\n",
       "       -1.7594304 , -1.7689006 , -1.7499601 , -1.7310196 , -1.6805115 ,\n",
       "       -1.7689006 , -1.6457871 , -1.6268467 , -1.7720575 , -1.582652  ,\n",
       "       -1.6805115 , -1.7436467 , -1.6678845 , -1.6489439 , -1.6584141 ,\n",
       "       -1.6015925 , -1.6489439 , -1.6426305 , -1.6457871 , -1.6678845 ,\n",
       "       -1.6236899 , -1.6015925 , -1.5542412 , -1.5005763 , -1.3932465 ,\n",
       "       -1.5037332 , -1.4469113 , -1.3017006 , -1.3679925 , -1.4248141 ,\n",
       "       -1.3332682 , -1.4721655 , -1.3143276 , -1.3743061 , -1.3774627 ,\n",
       "       -1.2669762 , -1.28276   , -1.2417221 , -1.2322519 , -1.178587  ,\n",
       "       -1.4185005 , -1.1754303 , -1.2764465 , -1.2385654 , -1.0396897 ,\n",
       "       -1.1375492 , -1.0554734 , -1.0933546 , -0.9891816 , -0.95130044,\n",
       "       -1.0586302 , -0.92288965, -0.6419382 , -0.83134365, -0.91341937,\n",
       "       -0.6735058 , -0.5472354 , -0.5503922 , -0.53145164, -0.20946236,\n",
       "       -0.23155966, -0.39571106, -0.6798193 , -0.6766625 , -0.70507336,\n",
       "       -0.5156679 , -0.51251113, -0.2220894 , -0.162111  , -0.08319205,\n",
       "        0.5008081 ,  0.57972705,  0.67127305,  0.6996839 ,  0.5229054 ,\n",
       "        0.6018244 ,  0.4439865 ,  0.7186245 ,  1.1005921 ,  1.7856086 ,\n",
       "        2.2970033 ,  2.5432305 ,  3.0767224 ,  2.6442466 ,  1.8645275 ,\n",
       "        1.6340841 ,  1.8645275 ,  2.483252  ,  2.953609  ,  2.8589063 ,\n",
       "        2.536917  ,  2.600052  ,  2.8210251 ,  2.779987  ,  3.2061496 ,\n",
       "        3.5218253 ,  3.3355768 ,  3.56602   ,  3.174582  ,  2.5306034 ,\n",
       "        2.0728736 ,  3.8280308 ,  3.1114469 ,  2.8841603 ,  3.2029927 ,\n",
       "        2.432744  ,  2.7105386 ,  3.1808956 ,  3.357674  ,  1.9150356 ,\n",
       "        2.2212412 ,  3.1714253 ,  3.1430144 ,  2.9725494 ,  2.9157279 ,\n",
       "        2.6852844 ,  2.4074898 ,  2.0728736 ,  1.2868409 ,  1.5646355 ,\n",
       "        1.4636194 ,  1.2268624 ,  1.3247219 ,  1.14163   ,  1.1069056 ,\n",
       "        1.1668841 ,  1.1605705 ,  1.1100624 ,  1.1574137 ,  0.44714326,\n",
       "        0.43135944,  0.13146748,  0.20722966,  0.3619108 ,  0.33349997,\n",
       "        0.33665672,  0.30824593, -0.15895423, -0.2599705 ], dtype=float32)"
      ]
     },
     "execution_count": 3,
     "metadata": {},
     "output_type": "execute_result"
    }
   ],
   "source": [
    "data= pd.DataFrame(Data)\n",
    "series = data.iloc[0].to_numpy()\n",
    "series = series[:-1]\n",
    "series = series.astype('float32')\n",
    "mean= np.mean(series)\n",
    "var= np.var(series)\n",
    "series = ((series - mean)/var)*1000\n",
    "series"
   ]
  },
  {
   "cell_type": "code",
   "execution_count": 4,
   "metadata": {
    "colab": {},
    "colab_type": "code",
    "id": "eo-zXw0rDFgU"
   },
   "outputs": [],
   "source": [
    "time = data.columns.tolist()\n",
    "time = time[:-1]\n"
   ]
  },
  {
   "cell_type": "code",
   "execution_count": 5,
   "metadata": {
    "colab": {
     "base_uri": "https://localhost:8080/",
     "height": 497
    },
    "colab_type": "code",
    "id": "PnQBlQabDFgm",
    "outputId": "6e649951-4257-4cd6-fbb0-bbe078274114"
   },
   "outputs": [],
   "source": [
    "import matplotlib.pyplot as plt\n",
    "\n",
    "\n",
    "def plot_series(time, series, format=\"-\", start=0, end=None):\n",
    "    plt.plot(time[start:end], series[start:end], format)\n",
    "    plt.xlabel(\"Time\")\n",
    "    plt.ylabel(\"Value\")\n",
    "    plt.grid(True)\n",
    "\n",
    "plt.figure(figsize=(20, 8))\n",
    "plot_series(time, series)"
   ]
  },
  {
   "cell_type": "code",
   "execution_count": 6,
   "metadata": {
    "colab": {},
    "colab_type": "code",
    "id": "ZHXCyDMDnd2Y"
   },
   "outputs": [],
   "source": [
    "split_time = int(0.95 * series.shape[0])\n",
    "time_train = time[:split_time]\n",
    "x_train = series[:split_time]\n",
    "time_valid = time[split_time:]\n",
    "x_valid = series[split_time:]\n",
    "\n",
    "window_size = 10\n",
    "batch_size = 5\n",
    "shuffle_buffer_size = 500"
   ]
  },
  {
   "cell_type": "code",
   "execution_count": 7,
   "metadata": {
    "colab": {},
    "colab_type": "code",
    "id": "W4ZLYnWjnkdj"
   },
   "outputs": [],
   "source": [
    "def windowed_dataset(series, window_size, batch_size, shuffle_buffer):\n",
    "    series = tf.expand_dims(series, axis=-1)\n",
    "    ds = tf.data.Dataset.from_tensor_slices(series)\n",
    "    ds = ds.window(window_size + 1, shift=1, drop_remainder=True)\n",
    "    ds = ds.flat_map(lambda w: w.batch(window_size + 1))\n",
    "    # ds = ds.shuffle(shuffle_buffer)\n",
    "    ds = ds.map(lambda w: (w[:-1], w[-1]))\n",
    "    return ds.batch(batch_size).prefetch(1)"
   ]
  },
  {
   "cell_type": "code",
   "execution_count": 8,
   "metadata": {
    "colab": {},
    "colab_type": "code",
    "id": "1kBDjpS3nnhz"
   },
   "outputs": [],
   "source": [
    "def model_forecast(model, series, window_size):\n",
    "    ds = tf.data.Dataset.from_tensor_slices(series)\n",
    "    ds = ds.window(window_size, shift=1, drop_remainder=True)\n",
    "    ds = ds.flat_map(lambda w: w.batch(window_size))\n",
    "    ds = ds.batch(32).prefetch(1)\n",
    "    forecast = model.predict(ds)\n",
    "    return forecast"
   ]
  },
  {
   "cell_type": "markdown",
   "metadata": {
    "colab_type": "text",
    "id": "ohkuP6r-n4RN"
   },
   "source": [
    "### The model"
   ]
  },
  {
   "cell_type": "code",
   "execution_count": 9,
   "metadata": {
    "colab": {
     "base_uri": "https://localhost:8080/",
     "height": 1000
    },
    "colab_type": "code",
    "id": "A2F0UHqDn6v0",
    "outputId": "38a93f27-888f-4dfa-deb6-53cceba06215"
   },
   "outputs": [
    {
     "name": "stdout",
     "output_type": "stream",
     "text": [
      "Epoch 1/100\n",
      "29/29 [==============================] - 10s 348ms/step - loss: 1.6319 - mae: 1.6319\n",
      "Epoch 2/100\n",
      "29/29 [==============================] - 1s 37ms/step - loss: 1.6319 - mae: 1.6319\n",
      "Epoch 3/100\n",
      "29/29 [==============================] - 1s 37ms/step - loss: 1.6319 - mae: 1.6319\n",
      "Epoch 4/100\n",
      "29/29 [==============================] - 1s 43ms/step - loss: 1.6319 - mae: 1.6319\n",
      "Epoch 5/100\n",
      "29/29 [==============================] - 1s 42ms/step - loss: 1.6319 - mae: 1.6319\n",
      "Epoch 6/100\n",
      "29/29 [==============================] - 1s 41ms/step - loss: 1.6319 - mae: 1.6319\n",
      "Epoch 7/100\n",
      "29/29 [==============================] - 1s 37ms/step - loss: 1.6319 - mae: 1.6319\n",
      "Epoch 8/100\n",
      "29/29 [==============================] - 1s 37ms/step - loss: 1.6318 - mae: 1.6318\n",
      "Epoch 9/100\n",
      "29/29 [==============================] - 1s 37ms/step - loss: 1.6318 - mae: 1.6318\n",
      "Epoch 10/100\n",
      "29/29 [==============================] - 1s 45ms/step - loss: 1.6318 - mae: 1.6318\n",
      "Epoch 11/100\n",
      "29/29 [==============================] - 1s 37ms/step - loss: 1.6318 - mae: 1.6318\n",
      "Epoch 12/100\n",
      "29/29 [==============================] - 1s 37ms/step - loss: 1.6318 - mae: 1.6318\n",
      "Epoch 13/100\n",
      "29/29 [==============================] - 1s 37ms/step - loss: 1.6318 - mae: 1.6318\n",
      "Epoch 14/100\n",
      "29/29 [==============================] - 1s 44ms/step - loss: 1.6318 - mae: 1.6318\n",
      "Epoch 15/100\n",
      "29/29 [==============================] - 1s 39ms/step - loss: 1.6318 - mae: 1.6318\n",
      "Epoch 16/100\n",
      "29/29 [==============================] - 1s 36ms/step - loss: 1.6318 - mae: 1.6318\n",
      "Epoch 17/100\n",
      "29/29 [==============================] - 1s 37ms/step - loss: 1.6318 - mae: 1.6318\n",
      "Epoch 18/100\n",
      "29/29 [==============================] - 1s 37ms/step - loss: 1.6318 - mae: 1.6318\n",
      "Epoch 19/100\n",
      "29/29 [==============================] - 2s 55ms/step - loss: 1.6318 - mae: 1.6318\n",
      "Epoch 20/100\n",
      "29/29 [==============================] - 1s 38ms/step - loss: 1.6318 - mae: 1.6318\n",
      "Epoch 21/100\n",
      "29/29 [==============================] - 1s 37ms/step - loss: 1.6317 - mae: 1.6317\n",
      "Epoch 22/100\n",
      "29/29 [==============================] - 1s 38ms/step - loss: 1.6317 - mae: 1.6317\n",
      "Epoch 23/100\n",
      "29/29 [==============================] - 1s 43ms/step - loss: 1.6317 - mae: 1.6317\n",
      "Epoch 24/100\n",
      "29/29 [==============================] - 1s 38ms/step - loss: 1.6317 - mae: 1.6317\n",
      "Epoch 25/100\n",
      "29/29 [==============================] - 1s 37ms/step - loss: 1.6317 - mae: 1.6317\n",
      "Epoch 26/100\n",
      "29/29 [==============================] - 1s 41ms/step - loss: 1.6316 - mae: 1.6316\n",
      "Epoch 27/100\n",
      "29/29 [==============================] - 1s 48ms/step - loss: 1.6316 - mae: 1.6316\n",
      "Epoch 28/100\n",
      "29/29 [==============================] - 1s 40ms/step - loss: 1.6316 - mae: 1.6316\n",
      "Epoch 29/100\n",
      "29/29 [==============================] - 1s 43ms/step - loss: 1.6316 - mae: 1.6316\n",
      "Epoch 30/100\n",
      "29/29 [==============================] - 1s 41ms/step - loss: 1.6315 - mae: 1.6315\n",
      "Epoch 31/100\n",
      "29/29 [==============================] - 1s 44ms/step - loss: 1.6315 - mae: 1.6315\n",
      "Epoch 32/100\n",
      "29/29 [==============================] - 1s 42ms/step - loss: 1.6314 - mae: 1.6314\n",
      "Epoch 33/100\n",
      "29/29 [==============================] - 1s 40ms/step - loss: 1.6314 - mae: 1.6314\n",
      "Epoch 34/100\n",
      "29/29 [==============================] - 1s 41ms/step - loss: 1.6313 - mae: 1.6313\n",
      "Epoch 35/100\n",
      "29/29 [==============================] - 1s 44ms/step - loss: 1.6313 - mae: 1.6313\n",
      "Epoch 36/100\n",
      "29/29 [==============================] - 1s 41ms/step - loss: 1.6312 - mae: 1.6312\n",
      "Epoch 37/100\n",
      "29/29 [==============================] - 1s 44ms/step - loss: 1.6311 - mae: 1.6311\n",
      "Epoch 38/100\n",
      "29/29 [==============================] - 1s 41ms/step - loss: 1.6311 - mae: 1.6311\n",
      "Epoch 39/100\n",
      "29/29 [==============================] - 1s 48ms/step - loss: 1.6310 - mae: 1.6310\n",
      "Epoch 40/100\n",
      "29/29 [==============================] - 1s 49ms/step - loss: 1.6309 - mae: 1.6309\n",
      "Epoch 41/100\n",
      "29/29 [==============================] - 1s 39ms/step - loss: 1.6309 - mae: 1.6309\n",
      "Epoch 42/100\n",
      "29/29 [==============================] - 1s 40ms/step - loss: 1.6308 - mae: 1.6308\n",
      "Epoch 43/100\n",
      "29/29 [==============================] - 1s 50ms/step - loss: 1.6307 - mae: 1.6307\n",
      "Epoch 44/100\n",
      "29/29 [==============================] - 1s 41ms/step - loss: 1.6306 - mae: 1.6306\n",
      "Epoch 45/100\n",
      "29/29 [==============================] - 1s 40ms/step - loss: 1.6305 - mae: 1.6305\n",
      "Epoch 46/100\n",
      "29/29 [==============================] - 1s 41ms/step - loss: 1.6304 - mae: 1.6304\n",
      "Epoch 47/100\n",
      "29/29 [==============================] - 2s 56ms/step - loss: 1.6302 - mae: 1.6302\n",
      "Epoch 48/100\n",
      "29/29 [==============================] - 1s 46ms/step - loss: 1.6301 - mae: 1.6301\n",
      "Epoch 49/100\n",
      "29/29 [==============================] - 1s 45ms/step - loss: 1.6299 - mae: 1.6299\n",
      "Epoch 50/100\n",
      "29/29 [==============================] - 1s 44ms/step - loss: 1.6297 - mae: 1.6297\n",
      "Epoch 51/100\n",
      "29/29 [==============================] - 2s 58ms/step - loss: 1.6295 - mae: 1.6295\n",
      "Epoch 52/100\n",
      "29/29 [==============================] - 1s 40ms/step - loss: 1.6292 - mae: 1.6292\n",
      "Epoch 53/100\n",
      "29/29 [==============================] - 1s 42ms/step - loss: 1.6290 - mae: 1.6290\n",
      "Epoch 54/100\n",
      "29/29 [==============================] - 1s 46ms/step - loss: 1.6286 - mae: 1.6286\n",
      "Epoch 55/100\n",
      "29/29 [==============================] - 1s 44ms/step - loss: 1.6283 - mae: 1.6283\n",
      "Epoch 56/100\n",
      "29/29 [==============================] - 1s 41ms/step - loss: 1.6278 - mae: 1.6278\n",
      "Epoch 57/100\n",
      "29/29 [==============================] - 1s 40ms/step - loss: 1.6273 - mae: 1.6273\n",
      "Epoch 58/100\n",
      "29/29 [==============================] - 1s 44ms/step - loss: 1.6267 - mae: 1.6267\n",
      "Epoch 59/100\n",
      "29/29 [==============================] - 1s 42ms/step - loss: 1.6258 - mae: 1.6258\n",
      "Epoch 60/100\n",
      "29/29 [==============================] - 1s 42ms/step - loss: 1.6246 - mae: 1.6246\n",
      "Epoch 61/100\n",
      "29/29 [==============================] - 1s 41ms/step - loss: 1.6232 - mae: 1.6232\n",
      "Epoch 62/100\n",
      "29/29 [==============================] - 1s 44ms/step - loss: 1.6213 - mae: 1.6213\n",
      "Epoch 63/100\n",
      "29/29 [==============================] - 1s 44ms/step - loss: 1.6188 - mae: 1.6188\n",
      "Epoch 64/100\n",
      "29/29 [==============================] - 1s 40ms/step - loss: 1.6152 - mae: 1.6152\n",
      "Epoch 65/100\n",
      "29/29 [==============================] - 1s 41ms/step - loss: 1.6097 - mae: 1.6097\n",
      "Epoch 66/100\n",
      "29/29 [==============================] - 1s 40ms/step - loss: 1.6005 - mae: 1.6005\n",
      "Epoch 67/100\n",
      "29/29 [==============================] - 1s 50ms/step - loss: 1.5836 - mae: 1.5836: 0s - loss: 1.5617 \n",
      "Epoch 68/100\n",
      "29/29 [==============================] - 1s 51ms/step - loss: 1.5434 - mae: 1.5434\n",
      "Epoch 69/100\n",
      "29/29 [==============================] - 1s 43ms/step - loss: 1.4556 - mae: 1.4556\n",
      "Epoch 70/100\n",
      "29/29 [==============================] - 1s 44ms/step - loss: 1.4332 - mae: 1.4332\n",
      "Epoch 71/100\n",
      "29/29 [==============================] - 1s 42ms/step - loss: 1.4150 - mae: 1.4150\n",
      "Epoch 72/100\n",
      "29/29 [==============================] - 1s 40ms/step - loss: 1.3695 - mae: 1.3695\n",
      "Epoch 73/100\n",
      "29/29 [==============================] - 1s 41ms/step - loss: 1.2944 - mae: 1.2944\n",
      "Epoch 74/100\n",
      "29/29 [==============================] - 1s 44ms/step - loss: 1.2363 - mae: 1.2363\n",
      "Epoch 75/100\n",
      "29/29 [==============================] - 1s 42ms/step - loss: 1.2505 - mae: 1.2505\n",
      "Epoch 76/100\n",
      "29/29 [==============================] - 1s 41ms/step - loss: 1.1818 - mae: 1.1818\n",
      "Epoch 77/100\n",
      "29/29 [==============================] - 1s 48ms/step - loss: 1.1677 - mae: 1.1677\n",
      "Epoch 78/100\n",
      "29/29 [==============================] - 1s 49ms/step - loss: 1.1231 - mae: 1.1231\n",
      "Epoch 79/100\n",
      "29/29 [==============================] - 2s 64ms/step - loss: 1.1085 - mae: 1.1085\n",
      "Epoch 80/100\n",
      "29/29 [==============================] - 1s 42ms/step - loss: 1.0391 - mae: 1.0391\n",
      "Epoch 81/100\n",
      "29/29 [==============================] - 1s 41ms/step - loss: 1.0463 - mae: 1.0463\n",
      "Epoch 82/100\n",
      "29/29 [==============================] - 1s 48ms/step - loss: 0.9986 - mae: 0.9986\n",
      "Epoch 83/100\n",
      "29/29 [==============================] - 1s 43ms/step - loss: 0.9899 - mae: 0.9899\n",
      "Epoch 84/100\n",
      "29/29 [==============================] - 1s 41ms/step - loss: 0.8923 - mae: 0.8923\n",
      "Epoch 85/100\n",
      "29/29 [==============================] - 1s 41ms/step - loss: 0.9698 - mae: 0.9698\n",
      "Epoch 86/100\n"
     ]
    },
    {
     "name": "stdout",
     "output_type": "stream",
     "text": [
      "29/29 [==============================] - 1s 51ms/step - loss: 0.8039 - mae: 0.8039\n",
      "Epoch 87/100\n",
      "29/29 [==============================] - 1s 39ms/step - loss: 0.9420 - mae: 0.9420\n",
      "Epoch 88/100\n",
      "29/29 [==============================] - 1s 40ms/step - loss: 0.7524 - mae: 0.7524\n",
      "Epoch 89/100\n",
      "29/29 [==============================] - 1s 40ms/step - loss: 0.8618 - mae: 0.8618\n",
      "Epoch 90/100\n",
      "29/29 [==============================] - 2s 55ms/step - loss: 0.6988 - mae: 0.6988\n",
      "Epoch 91/100\n",
      "29/29 [==============================] - 1s 51ms/step - loss: 0.7591 - mae: 0.7591\n",
      "Epoch 92/100\n",
      "29/29 [==============================] - 1s 36ms/step - loss: 0.7591 - mae: 0.7591\n",
      "Epoch 93/100\n",
      "29/29 [==============================] - 1s 44ms/step - loss: 0.6848 - mae: 0.6848\n",
      "Epoch 94/100\n",
      "29/29 [==============================] - 1s 48ms/step - loss: 0.7082 - mae: 0.7082\n",
      "Epoch 95/100\n",
      "29/29 [==============================] - 1s 39ms/step - loss: 0.6360 - mae: 0.6360\n",
      "Epoch 96/100\n",
      "29/29 [==============================] - 1s 41ms/step - loss: 0.6826 - mae: 0.6826\n",
      "Epoch 97/100\n",
      "29/29 [==============================] - 1s 42ms/step - loss: 0.7224 - mae: 0.7224\n",
      "Epoch 98/100\n",
      "29/29 [==============================] - 1s 42ms/step - loss: 0.6578 - mae: 0.6578\n",
      "Epoch 99/100\n",
      "29/29 [==============================] - 1s 40ms/step - loss: 0.6951 - mae: 0.6951\n",
      "Epoch 100/100\n",
      "29/29 [==============================] - 1s 44ms/step - loss: 0.6806 - mae: 0.6806\n",
      "      1/Unknown - 1s 1s/step"
     ]
    },
    {
     "ename": "TypeError",
     "evalue": "unsupported operand type(s) for *: 'int' and 'NoneType'",
     "output_type": "error",
     "traceback": [
      "\u001b[1;31m---------------------------------------------------------------------------\u001b[0m",
      "\u001b[1;31mOutOfRangeError\u001b[0m                           Traceback (most recent call last)",
      "\u001b[1;32mC:\\ProgramData\\Anaconda3\\lib\\site-packages\\tensorflow_core\\python\\keras\\engine\\training_v2.py\u001b[0m in \u001b[0;36mrun_one_epoch\u001b[1;34m(model, iterator, execution_function, dataset_size, batch_size, strategy, steps_per_epoch, num_samples, mode, training_context, total_epochs)\u001b[0m\n\u001b[0;32m    127\u001b[0m       \u001b[1;32mtry\u001b[0m\u001b[1;33m:\u001b[0m\u001b[1;33m\u001b[0m\u001b[1;33m\u001b[0m\u001b[0m\n\u001b[1;32m--> 128\u001b[1;33m         \u001b[0mbatch_outs\u001b[0m \u001b[1;33m=\u001b[0m \u001b[0mexecution_function\u001b[0m\u001b[1;33m(\u001b[0m\u001b[0miterator\u001b[0m\u001b[1;33m)\u001b[0m\u001b[1;33m\u001b[0m\u001b[1;33m\u001b[0m\u001b[0m\n\u001b[0m\u001b[0;32m    129\u001b[0m       \u001b[1;32mexcept\u001b[0m \u001b[1;33m(\u001b[0m\u001b[0mStopIteration\u001b[0m\u001b[1;33m,\u001b[0m \u001b[0merrors\u001b[0m\u001b[1;33m.\u001b[0m\u001b[0mOutOfRangeError\u001b[0m\u001b[1;33m)\u001b[0m\u001b[1;33m:\u001b[0m\u001b[1;33m\u001b[0m\u001b[1;33m\u001b[0m\u001b[0m\n",
      "\u001b[1;32mC:\\ProgramData\\Anaconda3\\lib\\site-packages\\tensorflow_core\\python\\keras\\engine\\training_v2_utils.py\u001b[0m in \u001b[0;36mexecution_function\u001b[1;34m(input_fn)\u001b[0m\n\u001b[0;32m     97\u001b[0m     return nest.map_structure(_non_none_constant_value,\n\u001b[1;32m---> 98\u001b[1;33m                               distributed_function(input_fn))\n\u001b[0m\u001b[0;32m     99\u001b[0m \u001b[1;33m\u001b[0m\u001b[0m\n",
      "\u001b[1;32mC:\\ProgramData\\Anaconda3\\lib\\site-packages\\tensorflow_core\\python\\eager\\def_function.py\u001b[0m in \u001b[0;36m__call__\u001b[1;34m(self, *args, **kwds)\u001b[0m\n\u001b[0;32m    567\u001b[0m     \u001b[1;32melse\u001b[0m\u001b[1;33m:\u001b[0m\u001b[1;33m\u001b[0m\u001b[1;33m\u001b[0m\u001b[0m\n\u001b[1;32m--> 568\u001b[1;33m       \u001b[0mresult\u001b[0m \u001b[1;33m=\u001b[0m \u001b[0mself\u001b[0m\u001b[1;33m.\u001b[0m\u001b[0m_call\u001b[0m\u001b[1;33m(\u001b[0m\u001b[1;33m*\u001b[0m\u001b[0margs\u001b[0m\u001b[1;33m,\u001b[0m \u001b[1;33m**\u001b[0m\u001b[0mkwds\u001b[0m\u001b[1;33m)\u001b[0m\u001b[1;33m\u001b[0m\u001b[1;33m\u001b[0m\u001b[0m\n\u001b[0m\u001b[0;32m    569\u001b[0m \u001b[1;33m\u001b[0m\u001b[0m\n",
      "\u001b[1;32mC:\\ProgramData\\Anaconda3\\lib\\site-packages\\tensorflow_core\\python\\eager\\def_function.py\u001b[0m in \u001b[0;36m_call\u001b[1;34m(self, *args, **kwds)\u001b[0m\n\u001b[0;32m    637\u001b[0m       \u001b[1;31m# If we did not create any variables the trace we have is good enough.\u001b[0m\u001b[1;33m\u001b[0m\u001b[1;33m\u001b[0m\u001b[1;33m\u001b[0m\u001b[0m\n\u001b[1;32m--> 638\u001b[1;33m       \u001b[1;32mreturn\u001b[0m \u001b[0mself\u001b[0m\u001b[1;33m.\u001b[0m\u001b[0m_concrete_stateful_fn\u001b[0m\u001b[1;33m.\u001b[0m\u001b[0m_filtered_call\u001b[0m\u001b[1;33m(\u001b[0m\u001b[0mcanon_args\u001b[0m\u001b[1;33m,\u001b[0m \u001b[0mcanon_kwds\u001b[0m\u001b[1;33m)\u001b[0m  \u001b[1;31m# pylint: disable=protected-access\u001b[0m\u001b[1;33m\u001b[0m\u001b[1;33m\u001b[0m\u001b[0m\n\u001b[0m\u001b[0;32m    639\u001b[0m \u001b[1;33m\u001b[0m\u001b[0m\n",
      "\u001b[1;32mC:\\ProgramData\\Anaconda3\\lib\\site-packages\\tensorflow_core\\python\\eager\\function.py\u001b[0m in \u001b[0;36m_filtered_call\u001b[1;34m(self, args, kwargs)\u001b[0m\n\u001b[0;32m   1610\u001b[0m                            resource_variable_ops.BaseResourceVariable))),\n\u001b[1;32m-> 1611\u001b[1;33m         self.captured_inputs)\n\u001b[0m\u001b[0;32m   1612\u001b[0m \u001b[1;33m\u001b[0m\u001b[0m\n",
      "\u001b[1;32mC:\\ProgramData\\Anaconda3\\lib\\site-packages\\tensorflow_core\\python\\eager\\function.py\u001b[0m in \u001b[0;36m_call_flat\u001b[1;34m(self, args, captured_inputs, cancellation_manager)\u001b[0m\n\u001b[0;32m   1691\u001b[0m       return self._build_call_outputs(self._inference_function.call(\n\u001b[1;32m-> 1692\u001b[1;33m           ctx, args, cancellation_manager=cancellation_manager))\n\u001b[0m\u001b[0;32m   1693\u001b[0m     forward_backward = self._select_forward_and_backward_functions(\n",
      "\u001b[1;32mC:\\ProgramData\\Anaconda3\\lib\\site-packages\\tensorflow_core\\python\\eager\\function.py\u001b[0m in \u001b[0;36mcall\u001b[1;34m(self, ctx, args, cancellation_manager)\u001b[0m\n\u001b[0;32m    544\u001b[0m               \u001b[0mattrs\u001b[0m\u001b[1;33m=\u001b[0m\u001b[1;33m(\u001b[0m\u001b[1;34m\"executor_type\"\u001b[0m\u001b[1;33m,\u001b[0m \u001b[0mexecutor_type\u001b[0m\u001b[1;33m,\u001b[0m \u001b[1;34m\"config_proto\"\u001b[0m\u001b[1;33m,\u001b[0m \u001b[0mconfig\u001b[0m\u001b[1;33m)\u001b[0m\u001b[1;33m,\u001b[0m\u001b[1;33m\u001b[0m\u001b[1;33m\u001b[0m\u001b[0m\n\u001b[1;32m--> 545\u001b[1;33m               ctx=ctx)\n\u001b[0m\u001b[0;32m    546\u001b[0m         \u001b[1;32melse\u001b[0m\u001b[1;33m:\u001b[0m\u001b[1;33m\u001b[0m\u001b[1;33m\u001b[0m\u001b[0m\n",
      "\u001b[1;32mC:\\ProgramData\\Anaconda3\\lib\\site-packages\\tensorflow_core\\python\\eager\\execute.py\u001b[0m in \u001b[0;36mquick_execute\u001b[1;34m(op_name, num_outputs, inputs, attrs, ctx, name)\u001b[0m\n\u001b[0;32m     66\u001b[0m       \u001b[0mmessage\u001b[0m \u001b[1;33m=\u001b[0m \u001b[0me\u001b[0m\u001b[1;33m.\u001b[0m\u001b[0mmessage\u001b[0m\u001b[1;33m\u001b[0m\u001b[1;33m\u001b[0m\u001b[0m\n\u001b[1;32m---> 67\u001b[1;33m     \u001b[0msix\u001b[0m\u001b[1;33m.\u001b[0m\u001b[0mraise_from\u001b[0m\u001b[1;33m(\u001b[0m\u001b[0mcore\u001b[0m\u001b[1;33m.\u001b[0m\u001b[0m_status_to_exception\u001b[0m\u001b[1;33m(\u001b[0m\u001b[0me\u001b[0m\u001b[1;33m.\u001b[0m\u001b[0mcode\u001b[0m\u001b[1;33m,\u001b[0m \u001b[0mmessage\u001b[0m\u001b[1;33m)\u001b[0m\u001b[1;33m,\u001b[0m \u001b[1;32mNone\u001b[0m\u001b[1;33m)\u001b[0m\u001b[1;33m\u001b[0m\u001b[1;33m\u001b[0m\u001b[0m\n\u001b[0m\u001b[0;32m     68\u001b[0m   \u001b[1;32mexcept\u001b[0m \u001b[0mTypeError\u001b[0m \u001b[1;32mas\u001b[0m \u001b[0me\u001b[0m\u001b[1;33m:\u001b[0m\u001b[1;33m\u001b[0m\u001b[1;33m\u001b[0m\u001b[0m\n",
      "\u001b[1;32mC:\\ProgramData\\Anaconda3\\lib\\site-packages\\six.py\u001b[0m in \u001b[0;36mraise_from\u001b[1;34m(value, from_value)\u001b[0m\n",
      "\u001b[1;31mOutOfRangeError\u001b[0m:  End of sequence\n\t [[node IteratorGetNext (defined at <ipython-input-9-256ef90f8f2d>:44) ]] [Op:__inference_distributed_function_15582]\n\nFunction call stack:\ndistributed_function\n",
      "\nDuring handling of the above exception, another exception occurred:\n",
      "\u001b[1;31mTypeError\u001b[0m                                 Traceback (most recent call last)",
      "\u001b[1;32m<ipython-input-9-256ef90f8f2d>\u001b[0m in \u001b[0;36m<module>\u001b[1;34m\u001b[0m\n\u001b[0;32m     42\u001b[0m \u001b[0mtest_set\u001b[0m \u001b[1;33m=\u001b[0m \u001b[0mwindowed_dataset\u001b[0m\u001b[1;33m(\u001b[0m\u001b[0mx_valid\u001b[0m\u001b[1;33m,\u001b[0m \u001b[0mwindow_size\u001b[0m\u001b[1;33m,\u001b[0m \u001b[0mbatch_size\u001b[0m\u001b[1;33m,\u001b[0m \u001b[0mshuffle_buffer_size\u001b[0m\u001b[1;33m)\u001b[0m\u001b[1;33m\u001b[0m\u001b[1;33m\u001b[0m\u001b[0m\n\u001b[0;32m     43\u001b[0m \u001b[1;33m\u001b[0m\u001b[0m\n\u001b[1;32m---> 44\u001b[1;33m \u001b[0mx\u001b[0m \u001b[1;33m=\u001b[0m \u001b[0mmodel\u001b[0m\u001b[1;33m.\u001b[0m\u001b[0mevaluate\u001b[0m\u001b[1;33m(\u001b[0m\u001b[0mtest_set\u001b[0m\u001b[1;33m)\u001b[0m\u001b[1;33m\u001b[0m\u001b[1;33m\u001b[0m\u001b[0m\n\u001b[0m",
      "\u001b[1;32mC:\\ProgramData\\Anaconda3\\lib\\site-packages\\tensorflow_core\\python\\keras\\engine\\training.py\u001b[0m in \u001b[0;36mevaluate\u001b[1;34m(self, x, y, batch_size, verbose, sample_weight, steps, callbacks, max_queue_size, workers, use_multiprocessing)\u001b[0m\n\u001b[0;32m    928\u001b[0m         \u001b[0mmax_queue_size\u001b[0m\u001b[1;33m=\u001b[0m\u001b[0mmax_queue_size\u001b[0m\u001b[1;33m,\u001b[0m\u001b[1;33m\u001b[0m\u001b[1;33m\u001b[0m\u001b[0m\n\u001b[0;32m    929\u001b[0m         \u001b[0mworkers\u001b[0m\u001b[1;33m=\u001b[0m\u001b[0mworkers\u001b[0m\u001b[1;33m,\u001b[0m\u001b[1;33m\u001b[0m\u001b[1;33m\u001b[0m\u001b[0m\n\u001b[1;32m--> 930\u001b[1;33m         use_multiprocessing=use_multiprocessing)\n\u001b[0m\u001b[0;32m    931\u001b[0m \u001b[1;33m\u001b[0m\u001b[0m\n\u001b[0;32m    932\u001b[0m   def predict(self,\n",
      "\u001b[1;32mC:\\ProgramData\\Anaconda3\\lib\\site-packages\\tensorflow_core\\python\\keras\\engine\\training_v2.py\u001b[0m in \u001b[0;36mevaluate\u001b[1;34m(self, model, x, y, batch_size, verbose, sample_weight, steps, callbacks, max_queue_size, workers, use_multiprocessing, **kwargs)\u001b[0m\n\u001b[0;32m    488\u001b[0m         \u001b[0msample_weight\u001b[0m\u001b[1;33m=\u001b[0m\u001b[0msample_weight\u001b[0m\u001b[1;33m,\u001b[0m \u001b[0msteps\u001b[0m\u001b[1;33m=\u001b[0m\u001b[0msteps\u001b[0m\u001b[1;33m,\u001b[0m \u001b[0mcallbacks\u001b[0m\u001b[1;33m=\u001b[0m\u001b[0mcallbacks\u001b[0m\u001b[1;33m,\u001b[0m\u001b[1;33m\u001b[0m\u001b[1;33m\u001b[0m\u001b[0m\n\u001b[0;32m    489\u001b[0m         \u001b[0mmax_queue_size\u001b[0m\u001b[1;33m=\u001b[0m\u001b[0mmax_queue_size\u001b[0m\u001b[1;33m,\u001b[0m \u001b[0mworkers\u001b[0m\u001b[1;33m=\u001b[0m\u001b[0mworkers\u001b[0m\u001b[1;33m,\u001b[0m\u001b[1;33m\u001b[0m\u001b[1;33m\u001b[0m\u001b[0m\n\u001b[1;32m--> 490\u001b[1;33m         use_multiprocessing=use_multiprocessing, **kwargs)\n\u001b[0m\u001b[0;32m    491\u001b[0m \u001b[1;33m\u001b[0m\u001b[0m\n\u001b[0;32m    492\u001b[0m   def predict(self, model, x, batch_size=None, verbose=0, steps=None,\n",
      "\u001b[1;32mC:\\ProgramData\\Anaconda3\\lib\\site-packages\\tensorflow_core\\python\\keras\\engine\\training_v2.py\u001b[0m in \u001b[0;36m_model_iteration\u001b[1;34m(self, model, mode, x, y, batch_size, verbose, sample_weight, steps, callbacks, max_queue_size, workers, use_multiprocessing, **kwargs)\u001b[0m\n\u001b[0;32m    473\u001b[0m               \u001b[0mmode\u001b[0m\u001b[1;33m=\u001b[0m\u001b[0mmode\u001b[0m\u001b[1;33m,\u001b[0m\u001b[1;33m\u001b[0m\u001b[1;33m\u001b[0m\u001b[0m\n\u001b[0;32m    474\u001b[0m               \u001b[0mtraining_context\u001b[0m\u001b[1;33m=\u001b[0m\u001b[0mtraining_context\u001b[0m\u001b[1;33m,\u001b[0m\u001b[1;33m\u001b[0m\u001b[1;33m\u001b[0m\u001b[0m\n\u001b[1;32m--> 475\u001b[1;33m               total_epochs=1)\n\u001b[0m\u001b[0;32m    476\u001b[0m           \u001b[0mcbks\u001b[0m\u001b[1;33m.\u001b[0m\u001b[0mmake_logs\u001b[0m\u001b[1;33m(\u001b[0m\u001b[0mmodel\u001b[0m\u001b[1;33m,\u001b[0m \u001b[0mepoch_logs\u001b[0m\u001b[1;33m,\u001b[0m \u001b[0mresult\u001b[0m\u001b[1;33m,\u001b[0m \u001b[0mmode\u001b[0m\u001b[1;33m)\u001b[0m\u001b[1;33m\u001b[0m\u001b[1;33m\u001b[0m\u001b[0m\n\u001b[0;32m    477\u001b[0m \u001b[1;33m\u001b[0m\u001b[0m\n",
      "\u001b[1;32mC:\\ProgramData\\Anaconda3\\lib\\site-packages\\tensorflow_core\\python\\keras\\engine\\training_v2.py\u001b[0m in \u001b[0;36mrun_one_epoch\u001b[1;34m(model, iterator, execution_function, dataset_size, batch_size, strategy, steps_per_epoch, num_samples, mode, training_context, total_epochs)\u001b[0m\n\u001b[0;32m    150\u001b[0m               \u001b[1;34m'{} batches). You may need to use the repeat() function '\u001b[0m\u001b[1;33m\u001b[0m\u001b[1;33m\u001b[0m\u001b[0m\n\u001b[0;32m    151\u001b[0m               'when building your dataset.'.format(\n\u001b[1;32m--> 152\u001b[1;33m                   total_epochs * steps_per_epoch))\n\u001b[0m\u001b[0;32m    153\u001b[0m         \u001b[1;31m# In either case, break out the loop for training batch.\u001b[0m\u001b[1;33m\u001b[0m\u001b[1;33m\u001b[0m\u001b[1;33m\u001b[0m\u001b[0m\n\u001b[0;32m    154\u001b[0m         \u001b[1;31m# Also note the training_context that data inputs are exhausted, so all\u001b[0m\u001b[1;33m\u001b[0m\u001b[1;33m\u001b[0m\u001b[1;33m\u001b[0m\u001b[0m\n",
      "\u001b[1;31mTypeError\u001b[0m: unsupported operand type(s) for *: 'int' and 'NoneType'"
     ]
    }
   ],
   "source": [
    "import tensorflow as tf\n",
    "import numpy as np\n",
    "\n",
    "\n",
    "tf.keras.backend.clear_session()\n",
    "tf.random.set_seed(51)\n",
    "np.random.seed(51)\n",
    "#window_size = 64\n",
    "#batch_size = 256\n",
    "train_set = windowed_dataset(x_train, window_size, batch_size, shuffle_buffer_size)\n",
    "# print(next(iter(train_set.take(5))))\n",
    "# print(x_train.shape)\n",
    "\n",
    "model = tf.keras.models.Sequential([\n",
    "  \n",
    "  tf.keras.layers.Conv1D(filters=50, kernel_size=5,\n",
    "                      strides=1, padding=\"causal\",\n",
    "                      activation=\"relu\",\n",
    "                      input_shape=[None, 1]),\n",
    "\n",
    "  tf.keras.layers.LSTM(100, return_sequences=True, activation=\"relu\"),\n",
    "  tf.keras.layers.LSTM(100, return_sequences=True, activation=\"relu\"),\n",
    "  tf.keras.layers.LSTM(100, return_sequences=True, activation=\"relu\"),\n",
    "  tf.keras.layers.Dense(100, activation=\"relu\"),\n",
    "  tf.keras.layers.Dense(20, activation=\"relu\"),\n",
    "  tf.keras.layers.Dense(1),\n",
    "  tf.keras.layers.LeakyReLU()\n",
    "  #tf.keras.layers.Lambda(lambda x: x * 400)\n",
    "])\n",
    "\n",
    "lr_schedule = tf.keras.callbacks.LearningRateScheduler(\n",
    "    lambda epoch: 1e-8 * 10**(epoch / 20))\n",
    "\n",
    "# optimizer = tf.keras.optimizers.SGD(lr=1e-6, momentum=0.9)\n",
    "\n",
    "model.compile(loss=\"mae\",\n",
    "              optimizer=\"adam\",\n",
    "              metrics=[\"mae\"])\n",
    "\n",
    "history = model.fit(train_set, epochs=100, callbacks=[lr_schedule])\n",
    "\n",
    "test_set = windowed_dataset(x_valid, window_size, batch_size, shuffle_buffer_size)\n",
    "\n",
    "x = model.evaluate(test_set)\n"
   ]
  },
  {
   "cell_type": "code",
   "execution_count": 10,
   "metadata": {
    "colab": {
     "base_uri": "https://localhost:8080/",
     "height": 340
    },
    "colab_type": "code",
    "id": "tCvtmdP3DFhx",
    "outputId": "e0af5183-e562-47cc-d783-eedfeb289108"
   },
   "outputs": [
    {
     "data": {
      "text/plain": [
       "(5.655877526068171e-09,\n",
       " 0.0015757960743081156,\n",
       " 0.5861833098119703,\n",
       " 1.6816607721406838)"
      ]
     },
     "execution_count": 10,
     "metadata": {},
     "output_type": "execute_result"
    },
    {
     "data": {
      "image/png": "[encoded data removed]",
      "text/plain": [
       "<Figure size 432x288 with 1 Axes>"
      ]
     },
     "metadata": {
      "needs_background": "light"
     },
     "output_type": "display_data"
    }
   ],
   "source": [
    "plt.semilogx(history.history[\"lr\"], history.history[\"loss\"])\n",
    "plt.axis()"
   ]
  },
  {
   "cell_type": "code",
   "execution_count": 11,
   "metadata": {
    "colab": {},
    "colab_type": "code",
    "id": "hxINGo_2DFiF"
   },
   "outputs": [],
   "source": [
    "rnn_forecast = model_forecast(model, series[..., np.newaxis], window_size)\n",
    "rnn_forecast = rnn_forecast[split_time - window_size:-1, -1, 0]"
   ]
  },
  {
   "cell_type": "code",
   "execution_count": 12,
   "metadata": {
    "colab": {
     "base_uri": "https://localhost:8080/",
     "height": 606
    },
    "colab_type": "code",
    "id": "X_Y2cqi3DFiQ",
    "outputId": "9a923fd9-f2eb-4f9e-9eca-f083e588de64"
   },
   "outputs": [
    {
     "data": {
      "image/png": "[encoded data removed]",
      "text/plain": [
       "<Figure size 1440x720 with 1 Axes>"
      ]
     },
     "metadata": {
      "needs_background": "light"
     },
     "output_type": "display_data"
    }
   ],
   "source": [
    "plt.figure(figsize=(20, 10))\n",
    "plot_series(time_valid, x_valid)\n",
    "plot_series(time_valid, rnn_forecast)"
   ]
  },
  {
   "cell_type": "code",
   "execution_count": 13,
   "metadata": {
    "colab": {
     "base_uri": "https://localhost:8080/",
     "height": 606
    },
    "colab_type": "code",
    "id": "AVZB9PgZDFiY",
    "outputId": "48c27ed0-d27d-443f-abc0-b51459f7f412"
   },
   "outputs": [
    {
     "data": {
      "image/png": "[encoded data removed]",
      "text/plain": [
       "<Figure size 1440x720 with 1 Axes>"
      ]
     },
     "metadata": {
      "needs_background": "light"
     },
     "output_type": "display_data"
    }
   ],
   "source": [
    "rnn_forecast = model_forecast(model, series[..., np.newaxis], window_size)\n",
    "rnn_forecast = rnn_forecast[ : split_time, -1, 0]\n",
    "\n",
    "plt.figure(figsize=(20, 10))\n",
    "plot_series(time_train, x_train)\n",
    "plot_series(time_train, rnn_forecast)"
   ]
  },
  {
   "cell_type": "code",
   "execution_count": 254,
   "metadata": {
    "colab": {},
    "colab_type": "code",
    "id": "7lmJFXJhIqRc"
   },
   "outputs": [],
   "source": []
  }
 ],
 "metadata": {
  "colab": {
   "name": "COVID19 Prediction DL model.ipynb",
   "provenance": []
  },
  "kernelspec": {
   "display_name": "Python 3",
   "language": "python",
   "name": "python3"
  },
  "language_info": {
   "codemirror_mode": {
    "name": "ipython",
    "version": 3
   },
   "file_extension": ".py",
   "mimetype": "text/x-python",
   "name": "python",
   "nbconvert_exporter": "python",
   "pygments_lexer": "ipython3",
   "version": "3.7.4"
  }
 },
 "nbformat": 4,
 "nbformat_minor": 1
}
