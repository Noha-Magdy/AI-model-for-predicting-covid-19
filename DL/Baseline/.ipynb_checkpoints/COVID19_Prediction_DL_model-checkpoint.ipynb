{
 "cells": [
  {
   "cell_type": "markdown",
   "metadata": {
    "colab_type": "text",
    "id": "6VoXlr_vnVAl"
   },
   "source": [
    "### Preparing the Data"
   ]
  },
  {
   "cell_type": "code",
   "execution_count": 47,
   "metadata": {
    "colab": {
     "base_uri": "https://localhost:8080/",
     "height": 1000
    },
    "colab_type": "code",
    "id": "LmudKMMLAZlT",
    "outputId": "75ca6ee4-a316-4ae2-f77d-4c46fc79edd6"
   },
   "outputs": [],
   "source": [
    "import requests\n",
    "import json\n",
    "\n",
    "url = 'https://api.thevirustracker.com/free-api?countryTimeline=EG'\n",
    "\n",
    "x = requests.post(url) \n",
    "\n",
    "#print (x.content)\n",
    "Data= json.loads(x.content)['timelineitems'][0]\n",
    " "
   ]
  },
  {
   "cell_type": "code",
   "execution_count": 48,
   "metadata": {
    "colab": {
     "base_uri": "https://localhost:8080/",
     "height": 247
    },
    "colab_type": "code",
    "id": "I5dOjMvFDkDa",
    "outputId": "55893e3e-191a-4c11-ded8-2ed6a15e4f48"
   },
   "outputs": [
    {
     "data": {
      "text/html": [
       "<div>\n",
       "<style scoped>\n",
       "    .dataframe tbody tr th:only-of-type {\n",
       "        vertical-align: middle;\n",
       "    }\n",
       "\n",
       "    .dataframe tbody tr th {\n",
       "        vertical-align: top;\n",
       "    }\n",
       "\n",
       "    .dataframe thead th {\n",
       "        text-align: right;\n",
       "    }\n",
       "</style>\n",
       "<table border=\"1\" class=\"dataframe\">\n",
       "  <thead>\n",
       "    <tr style=\"text-align: right;\">\n",
       "      <th></th>\n",
       "      <th>2/14/20</th>\n",
       "      <th>2/15/20</th>\n",
       "      <th>2/16/20</th>\n",
       "      <th>2/17/20</th>\n",
       "      <th>2/18/20</th>\n",
       "      <th>2/19/20</th>\n",
       "      <th>2/20/20</th>\n",
       "      <th>2/21/20</th>\n",
       "      <th>2/22/20</th>\n",
       "      <th>2/23/20</th>\n",
       "      <th>...</th>\n",
       "      <th>7/06/20</th>\n",
       "      <th>7/07/20</th>\n",
       "      <th>7/08/20</th>\n",
       "      <th>7/09/20</th>\n",
       "      <th>7/10/20</th>\n",
       "      <th>7/11/20</th>\n",
       "      <th>7/12/20</th>\n",
       "      <th>7/13/20</th>\n",
       "      <th>7/14/20</th>\n",
       "      <th>stat</th>\n",
       "    </tr>\n",
       "  </thead>\n",
       "  <tbody>\n",
       "    <tr>\n",
       "      <td>new_daily_cases</td>\n",
       "      <td>1</td>\n",
       "      <td>0</td>\n",
       "      <td>0</td>\n",
       "      <td>0</td>\n",
       "      <td>0</td>\n",
       "      <td>0</td>\n",
       "      <td>0</td>\n",
       "      <td>0</td>\n",
       "      <td>0</td>\n",
       "      <td>0</td>\n",
       "      <td>...</td>\n",
       "      <td>969</td>\n",
       "      <td>1057</td>\n",
       "      <td>1025</td>\n",
       "      <td>950</td>\n",
       "      <td>981</td>\n",
       "      <td>923</td>\n",
       "      <td>912</td>\n",
       "      <td>931</td>\n",
       "      <td>929</td>\n",
       "      <td>ok</td>\n",
       "    </tr>\n",
       "    <tr>\n",
       "      <td>new_daily_deaths</td>\n",
       "      <td>0</td>\n",
       "      <td>0</td>\n",
       "      <td>0</td>\n",
       "      <td>0</td>\n",
       "      <td>0</td>\n",
       "      <td>0</td>\n",
       "      <td>0</td>\n",
       "      <td>0</td>\n",
       "      <td>0</td>\n",
       "      <td>0</td>\n",
       "      <td>...</td>\n",
       "      <td>79</td>\n",
       "      <td>67</td>\n",
       "      <td>75</td>\n",
       "      <td>53</td>\n",
       "      <td>85</td>\n",
       "      <td>67</td>\n",
       "      <td>89</td>\n",
       "      <td>77</td>\n",
       "      <td>73</td>\n",
       "      <td>ok</td>\n",
       "    </tr>\n",
       "    <tr>\n",
       "      <td>total_cases</td>\n",
       "      <td>1</td>\n",
       "      <td>1</td>\n",
       "      <td>1</td>\n",
       "      <td>1</td>\n",
       "      <td>1</td>\n",
       "      <td>1</td>\n",
       "      <td>1</td>\n",
       "      <td>1</td>\n",
       "      <td>1</td>\n",
       "      <td>1</td>\n",
       "      <td>...</td>\n",
       "      <td>76222</td>\n",
       "      <td>77279</td>\n",
       "      <td>78304</td>\n",
       "      <td>79254</td>\n",
       "      <td>80235</td>\n",
       "      <td>81158</td>\n",
       "      <td>82070</td>\n",
       "      <td>83001</td>\n",
       "      <td>83930</td>\n",
       "      <td>ok</td>\n",
       "    </tr>\n",
       "    <tr>\n",
       "      <td>total_recoveries</td>\n",
       "      <td>0</td>\n",
       "      <td>0</td>\n",
       "      <td>0</td>\n",
       "      <td>0</td>\n",
       "      <td>0</td>\n",
       "      <td>0</td>\n",
       "      <td>0</td>\n",
       "      <td>0</td>\n",
       "      <td>0</td>\n",
       "      <td>0</td>\n",
       "      <td>...</td>\n",
       "      <td>56</td>\n",
       "      <td>21718</td>\n",
       "      <td>21718</td>\n",
       "      <td>21718</td>\n",
       "      <td>21718</td>\n",
       "      <td>21718</td>\n",
       "      <td>21718</td>\n",
       "      <td>21718</td>\n",
       "      <td>21718</td>\n",
       "      <td>ok</td>\n",
       "    </tr>\n",
       "    <tr>\n",
       "      <td>total_deaths</td>\n",
       "      <td>0</td>\n",
       "      <td>0</td>\n",
       "      <td>0</td>\n",
       "      <td>0</td>\n",
       "      <td>0</td>\n",
       "      <td>0</td>\n",
       "      <td>0</td>\n",
       "      <td>0</td>\n",
       "      <td>0</td>\n",
       "      <td>0</td>\n",
       "      <td>...</td>\n",
       "      <td>3422</td>\n",
       "      <td>3489</td>\n",
       "      <td>3564</td>\n",
       "      <td>3617</td>\n",
       "      <td>3702</td>\n",
       "      <td>3769</td>\n",
       "      <td>3858</td>\n",
       "      <td>3935</td>\n",
       "      <td>4008</td>\n",
       "      <td>ok</td>\n",
       "    </tr>\n",
       "  </tbody>\n",
       "</table>\n",
       "<p>5 rows × 153 columns</p>\n",
       "</div>"
      ],
      "text/plain": [
       "                  2/14/20  2/15/20  2/16/20  2/17/20  2/18/20  2/19/20  \\\n",
       "new_daily_cases         1        0        0        0        0        0   \n",
       "new_daily_deaths        0        0        0        0        0        0   \n",
       "total_cases             1        1        1        1        1        1   \n",
       "total_recoveries        0        0        0        0        0        0   \n",
       "total_deaths            0        0        0        0        0        0   \n",
       "\n",
       "                  2/20/20  2/21/20  2/22/20  2/23/20  ...  7/06/20  7/07/20  \\\n",
       "new_daily_cases         0        0        0        0  ...      969     1057   \n",
       "new_daily_deaths        0        0        0        0  ...       79       67   \n",
       "total_cases             1        1        1        1  ...    76222    77279   \n",
       "total_recoveries        0        0        0        0  ...       56    21718   \n",
       "total_deaths            0        0        0        0  ...     3422     3489   \n",
       "\n",
       "                  7/08/20  7/09/20  7/10/20  7/11/20  7/12/20  7/13/20  \\\n",
       "new_daily_cases      1025      950      981      923      912      931   \n",
       "new_daily_deaths       75       53       85       67       89       77   \n",
       "total_cases         78304    79254    80235    81158    82070    83001   \n",
       "total_recoveries    21718    21718    21718    21718    21718    21718   \n",
       "total_deaths         3564     3617     3702     3769     3858     3935   \n",
       "\n",
       "                  7/14/20  stat  \n",
       "new_daily_cases       929    ok  \n",
       "new_daily_deaths       73    ok  \n",
       "total_cases         83930    ok  \n",
       "total_recoveries    21718    ok  \n",
       "total_deaths         4008    ok  \n",
       "\n",
       "[5 rows x 153 columns]"
      ]
     },
     "execution_count": 48,
     "metadata": {},
     "output_type": "execute_result"
    }
   ],
   "source": [
    "import pandas as pd\n",
    "import numpy as np\n",
    "\n",
    "data= pd.DataFrame(Data)\n",
    "data"
   ]
  },
  {
   "cell_type": "code",
   "execution_count": 49,
   "metadata": {
    "colab": {
     "base_uri": "https://localhost:8080/",
     "height": 781
    },
    "colab_type": "code",
    "id": "Z_gC8oTCFgnB",
    "outputId": "c3516f74-5f24-479f-ade7-ffaeb3970d3a"
   },
   "outputs": [
    {
     "data": {
      "text/plain": [
       "array([-1.6241766e-03, -1.6271233e-03, -1.6271233e-03, -1.6271233e-03,\n",
       "       -1.6271233e-03, -1.6271233e-03, -1.6271233e-03, -1.6271233e-03,\n",
       "       -1.6271233e-03, -1.6271233e-03, -1.6271233e-03, -1.6271233e-03,\n",
       "       -1.6271233e-03, -1.6271233e-03, -1.6271233e-03, -1.6271233e-03,\n",
       "       -1.6241766e-03, -1.6271233e-03, -1.6271233e-03, -1.6271233e-03,\n",
       "       -1.6241766e-03, -1.5917621e-03, -1.6271233e-03, -1.5269330e-03,\n",
       "       -1.6094428e-03, -1.6153363e-03, -1.6241766e-03, -1.6064959e-03,\n",
       "       -1.5888154e-03, -1.5416669e-03, -1.6241766e-03, -1.5092525e-03,\n",
       "       -1.4915718e-03, -1.6271233e-03, -1.4503170e-03, -1.5416669e-03,\n",
       "       -1.6006024e-03, -1.5298799e-03, -1.5121992e-03, -1.5210395e-03,\n",
       "       -1.4679976e-03, -1.5121992e-03, -1.5063056e-03, -1.5092525e-03,\n",
       "       -1.5298799e-03, -1.4886250e-03, -1.4679976e-03, -1.4237959e-03,\n",
       "       -1.3737008e-03, -1.2735105e-03, -1.3766476e-03, -1.3236057e-03,\n",
       "       -1.1880541e-03, -1.2499363e-03, -1.3029783e-03, -1.2175218e-03,\n",
       "       -1.3471799e-03, -1.1998412e-03, -1.2558298e-03, -1.2587766e-03,\n",
       "       -1.1556395e-03, -1.1703734e-03, -1.1320653e-03, -1.1232251e-03,\n",
       "       -1.0731298e-03, -1.2970847e-03, -1.0701831e-03, -1.1644799e-03,\n",
       "       -1.1291186e-03, -9.4347179e-04, -1.0348218e-03, -9.5820567e-04,\n",
       "       -9.9356694e-04, -8.9632341e-04, -8.6096214e-04, -9.6115249e-04,\n",
       "       -8.3444116e-04, -5.7217828e-04, -7.4898475e-04, -8.2560087e-04,\n",
       "       -6.0164602e-04, -4.8377507e-04, -4.8672184e-04, -4.6904120e-04,\n",
       "       -1.6847026e-04, -1.8909767e-04, -3.4232993e-04, -6.0753961e-04,\n",
       "       -6.0459279e-04, -6.3111377e-04, -4.5430733e-04, -4.5136057e-04,\n",
       "       -1.8025735e-04, -1.2426864e-04, -5.0599298e-05,  4.9455388e-04,\n",
       "        5.6822324e-04,  6.5367972e-04,  6.8020064e-04,  5.1518128e-04,\n",
       "        5.8885064e-04,  4.4151195e-04,  6.9788127e-04,  1.0544410e-03,\n",
       "        1.6938909e-03,  2.1712682e-03,  2.4011168e-03,  2.8991215e-03,\n",
       "        2.4954134e-03,  1.7675603e-03,  1.5524457e-03,  1.7675603e-03,\n",
       "        2.3451280e-03,  2.7841972e-03,  2.6957940e-03,  2.3952231e-03,\n",
       "        2.4541586e-03,  2.6604328e-03,  2.6221247e-03,  3.0199389e-03,\n",
       "        3.3146164e-03,  3.1407569e-03,  3.3558712e-03,  2.9904714e-03,\n",
       "        2.3893295e-03,  1.9620473e-03,  3.6004535e-03,  2.9315359e-03,\n",
       "        2.7193683e-03,  3.0169925e-03,  2.2979795e-03,  2.5572956e-03,\n",
       "        2.9963651e-03,  3.1613843e-03,  1.8147086e-03,  2.1005457e-03,\n",
       "        2.9875247e-03,  2.9610037e-03,  2.8018779e-03,  2.7488361e-03,\n",
       "        2.5337215e-03,  2.2744054e-03,  1.9620473e-03,  1.2283006e-03,\n",
       "        1.4876167e-03,  1.3933199e-03,  1.1723120e-03,  1.2636619e-03,\n",
       "        1.0927491e-03,  1.0603345e-03,  1.1163232e-03,  1.1104296e-03],\n",
       "      dtype=float32)"
      ]
     },
     "execution_count": 49,
     "metadata": {},
     "output_type": "execute_result"
    }
   ],
   "source": [
    "data= pd.DataFrame(Data)\n",
    "series = data.iloc[0].to_numpy()\n",
    "series = series[:-1]\n",
    "series = series.astype('float32')\n",
    "mean= np.mean(series)\n",
    "var= np.var(series)\n",
    "series = (series - mean)/var\n",
    "series"
   ]
  },
  {
   "cell_type": "code",
   "execution_count": 56,
   "metadata": {},
   "outputs": [],
   "source": [
    "time = data.columns.tolist()\n",
    "time = time[:-1]\n"
   ]
  },
  {
   "cell_type": "code",
   "execution_count": 63,
   "metadata": {},
   "outputs": [
    {
     "data": {
      "image/png": "[encoded data removed]",
      "text/plain": [
       "<Figure size 720x432 with 1 Axes>"
      ]
     },
     "metadata": {
      "needs_background": "light"
     },
     "output_type": "display_data"
    }
   ],
   "source": [
    "import matplotlib.pyplot as plt\n",
    "\n",
    "\n",
    "def plot_series(time, series, format=\"-\", start=0, end=None):\n",
    "    plt.plot(time[start:end], series[start:end], format)\n",
    "    plt.xlabel(\"Time\")\n",
    "    plt.ylabel(\"Value\")\n",
    "    plt.grid(True)\n",
    "\n",
    "plt.figure(figsize=(10, 6))\n",
    "plot_series(time, series)"
   ]
  },
  {
   "cell_type": "code",
   "execution_count": 58,
   "metadata": {
    "colab": {},
    "colab_type": "code",
    "id": "ZHXCyDMDnd2Y"
   },
   "outputs": [],
   "source": [
    "split_time = int(0.8 * series.shape[0])\n",
    "time_train = time[:split_time]\n",
    "x_train = series[:split_time]\n",
    "time_valid = time[split_time:]\n",
    "x_valid = series[split_time:]\n",
    "\n",
    "window_size = 10\n",
    "batch_size = 5\n",
    "shuffle_buffer_size = 500"
   ]
  },
  {
   "cell_type": "code",
   "execution_count": 59,
   "metadata": {
    "colab": {},
    "colab_type": "code",
    "id": "W4ZLYnWjnkdj"
   },
   "outputs": [],
   "source": [
    "def windowed_dataset(series, window_size, batch_size, shuffle_buffer):\n",
    "    series = tf.expand_dims(series, axis=-1)\n",
    "    ds = tf.data.Dataset.from_tensor_slices(series)\n",
    "    ds = ds.window(window_size + 1, shift=1, drop_remainder=True)\n",
    "    ds = ds.flat_map(lambda w: w.batch(window_size + 1))\n",
    "    ds = ds.shuffle(shuffle_buffer)\n",
    "    ds = ds.map(lambda w: (w[:-1], w[1:]))\n",
    "    return ds.batch(batch_size).prefetch(1)"
   ]
  },
  {
   "cell_type": "code",
   "execution_count": 60,
   "metadata": {
    "colab": {},
    "colab_type": "code",
    "id": "1kBDjpS3nnhz"
   },
   "outputs": [],
   "source": [
    "def model_forecast(model, series, window_size):\n",
    "    ds = tf.data.Dataset.from_tensor_slices(series)\n",
    "    ds = ds.window(window_size, shift=1, drop_remainder=True)\n",
    "    ds = ds.flat_map(lambda w: w.batch(window_size))\n",
    "    ds = ds.batch(32).prefetch(1)\n",
    "    forecast = model.predict(ds)\n",
    "    return forecast"
   ]
  },
  {
   "cell_type": "markdown",
   "metadata": {
    "colab_type": "text",
    "id": "ohkuP6r-n4RN"
   },
   "source": [
    "### The model"
   ]
  },
  {
   "cell_type": "code",
   "execution_count": 53,
   "metadata": {
    "colab": {
     "base_uri": "https://localhost:8080/",
     "height": 1000
    },
    "colab_type": "code",
    "id": "A2F0UHqDn6v0",
    "outputId": "2c317be1-d5ef-495f-930d-f7725ce50bbd"
   },
   "outputs": [
    {
     "name": "stdout",
     "output_type": "stream",
     "text": [
      "<PrefetchDataset shapes: ((None, None, 1), (None, None, 1)), types: (tf.float32, tf.float32)>\n",
      "(121,)\n",
      "Epoch 1/100\n",
      "23/23 [==============================] - 18s 764ms/step - loss: 9.5223e-07 - mae: 0.0013\n",
      "Epoch 2/100\n",
      "23/23 [==============================] - 1s 41ms/step - loss: 9.3533e-07 - mae: 0.0013\n",
      "Epoch 3/100\n",
      "23/23 [==============================] - 1s 53ms/step - loss: 9.3671e-07 - mae: 0.0013\n",
      "Epoch 4/100\n",
      "23/23 [==============================] - 1s 50ms/step - loss: 9.3600e-07 - mae: 0.0013\n",
      "Epoch 5/100\n",
      "23/23 [==============================] - 1s 41ms/step - loss: 9.4601e-07 - mae: 0.0013\n",
      "Epoch 6/100\n",
      "23/23 [==============================] - 1s 41ms/step - loss: 9.5220e-07 - mae: 0.0013\n",
      "Epoch 7/100\n",
      "23/23 [==============================] - 1s 48ms/step - loss: 9.7286e-07 - mae: 0.0013\n",
      "Epoch 8/100\n",
      "23/23 [==============================] - 1s 56ms/step - loss: 9.4959e-07 - mae: 0.0013\n",
      "Epoch 9/100\n",
      "23/23 [==============================] - 1s 55ms/step - loss: 9.3594e-07 - mae: 0.0013\n",
      "Epoch 10/100\n",
      "23/23 [==============================] - 1s 46ms/step - loss: 9.7471e-07 - mae: 0.0013: 0s - loss: 8.1821e-07 - mae: \n",
      "Epoch 11/100\n",
      "23/23 [==============================] - 1s 36ms/step - loss: 9.4955e-07 - mae: 0.0013\n",
      "Epoch 12/100\n",
      "23/23 [==============================] - 1s 56ms/step - loss: 9.5416e-07 - mae: 0.0013\n",
      "Epoch 13/100\n",
      "23/23 [==============================] - 1s 38ms/step - loss: 9.5427e-07 - mae: 0.0013\n",
      "Epoch 14/100\n",
      "23/23 [==============================] - 1s 39ms/step - loss: 9.6846e-07 - mae: 0.0013\n",
      "Epoch 15/100\n",
      "23/23 [==============================] - 1s 42ms/step - loss: 9.5636e-07 - mae: 0.0013\n",
      "Epoch 16/100\n",
      "23/23 [==============================] - 1s 38ms/step - loss: 9.3882e-07 - mae: 0.0013\n",
      "Epoch 17/100\n",
      "23/23 [==============================] - 1s 50ms/step - loss: 9.7454e-07 - mae: 0.0013\n",
      "Epoch 18/100\n",
      "23/23 [==============================] - 1s 40ms/step - loss: 9.3572e-07 - mae: 0.0013\n",
      "Epoch 19/100\n",
      "23/23 [==============================] - 1s 39ms/step - loss: 9.4311e-07 - mae: 0.0013\n",
      "Epoch 20/100\n",
      "23/23 [==============================] - 1s 47ms/step - loss: 9.4197e-07 - mae: 0.0013\n",
      "Epoch 21/100\n",
      "23/23 [==============================] - 1s 60ms/step - loss: 9.3814e-07 - mae: 0.0013: 0s - loss: 9.6983e-07 - mae: 0.0\n",
      "Epoch 22/100\n",
      "23/23 [==============================] - 1s 64ms/step - loss: 9.7414e-07 - mae: 0.0013\n",
      "Epoch 23/100\n",
      "23/23 [==============================] - 1s 45ms/step - loss: 9.5174e-07 - mae: 0.0013\n",
      "Epoch 24/100\n",
      "23/23 [==============================] - 1s 42ms/step - loss: 9.6804e-07 - mae: 0.0013\n",
      "Epoch 25/100\n",
      "23/23 [==============================] - 1s 45ms/step - loss: 9.3604e-07 - mae: 0.0013\n",
      "Epoch 26/100\n",
      "23/23 [==============================] - 1s 50ms/step - loss: 1.0320e-06 - mae: 0.0013\n",
      "Epoch 27/100\n",
      "23/23 [==============================] - 1s 44ms/step - loss: 9.5297e-07 - mae: 0.0013\n",
      "Epoch 28/100\n",
      "23/23 [==============================] - 1s 41ms/step - loss: 9.3671e-07 - mae: 0.0013\n",
      "Epoch 29/100\n",
      "23/23 [==============================] - 1s 39ms/step - loss: 9.5325e-07 - mae: 0.0013\n",
      "Epoch 30/100\n",
      "23/23 [==============================] - 1s 41ms/step - loss: 1.0204e-06 - mae: 0.0013\n",
      "Epoch 31/100\n",
      "23/23 [==============================] - 1s 55ms/step - loss: 9.6462e-07 - mae: 0.0013\n",
      "Epoch 32/100\n",
      "23/23 [==============================] - 1s 54ms/step - loss: 9.5527e-07 - mae: 0.0013\n",
      "Epoch 33/100\n",
      "23/23 [==============================] - 1s 51ms/step - loss: 9.6964e-07 - mae: 0.0013\n",
      "Epoch 34/100\n",
      "23/23 [==============================] - 1s 52ms/step - loss: 9.3494e-07 - mae: 0.0013\n",
      "Epoch 35/100\n",
      "23/23 [==============================] - 1s 48ms/step - loss: 9.3655e-07 - mae: 0.0013\n",
      "Epoch 36/100\n",
      "23/23 [==============================] - 1s 57ms/step - loss: 1.0015e-06 - mae: 0.0013\n",
      "Epoch 37/100\n",
      "23/23 [==============================] - 1s 45ms/step - loss: 9.3973e-07 - mae: 0.0013\n",
      "Epoch 38/100\n",
      "23/23 [==============================] - 1s 51ms/step - loss: 9.5680e-07 - mae: 0.0013: 0s - loss: 9.5072e-07 - mae: 0.00\n",
      "Epoch 39/100\n",
      "23/23 [==============================] - 1s 48ms/step - loss: 9.6708e-07 - mae: 0.0013\n",
      "Epoch 40/100\n",
      "23/23 [==============================] - 1s 48ms/step - loss: 9.5618e-07 - mae: 0.0013\n",
      "Epoch 41/100\n",
      "23/23 [==============================] - 1s 55ms/step - loss: 9.4354e-07 - mae: 0.0013\n",
      "Epoch 42/100\n",
      "23/23 [==============================] - 1s 52ms/step - loss: 9.6996e-07 - mae: 0.0013\n",
      "Epoch 43/100\n",
      "23/23 [==============================] - 1s 43ms/step - loss: 1.0098e-06 - mae: 0.0013\n",
      "Epoch 44/100\n",
      "23/23 [==============================] - 1s 42ms/step - loss: 9.3184e-07 - mae: 0.0013\n",
      "Epoch 45/100\n",
      "23/23 [==============================] - 1s 46ms/step - loss: 9.6803e-07 - mae: 0.0013\n",
      "Epoch 46/100\n",
      "23/23 [==============================] - 1s 49ms/step - loss: 9.2949e-07 - mae: 0.0013: 0s - loss: 9.7165e-07 - mae: 0.0\n",
      "Epoch 47/100\n",
      "23/23 [==============================] - 1s 56ms/step - loss: 1.0138e-06 - mae: 0.0013\n",
      "Epoch 48/100\n",
      "23/23 [==============================] - 1s 58ms/step - loss: 1.0133e-06 - mae: 0.0013\n",
      "Epoch 49/100\n",
      "23/23 [==============================] - 2s 69ms/step - loss: 9.6417e-07 - mae: 0.0013\n",
      "Epoch 50/100\n",
      "23/23 [==============================] - 1s 55ms/step - loss: 9.5416e-07 - mae: 0.0013: 0s - loss: 1.0138e-06 - mae: 0.0\n",
      "Epoch 51/100\n",
      "23/23 [==============================] - 1s 45ms/step - loss: 9.6067e-07 - mae: 0.0013: 0s - loss: 9.3303e-07 - mae\n",
      "Epoch 52/100\n",
      "23/23 [==============================] - 1s 49ms/step - loss: 1.0014e-06 - mae: 0.0013\n",
      "Epoch 53/100\n",
      "23/23 [==============================] - 2s 72ms/step - loss: 9.5344e-07 - mae: 0.0012\n",
      "Epoch 54/100\n",
      "23/23 [==============================] - 1s 52ms/step - loss: 9.1923e-07 - mae: 0.0012\n",
      "Epoch 55/100\n",
      "23/23 [==============================] - 1s 36ms/step - loss: 9.3433e-07 - mae: 0.0012\n",
      "Epoch 56/100\n",
      "23/23 [==============================] - 1s 40ms/step - loss: 9.5296e-07 - mae: 0.0012\n",
      "Epoch 57/100\n",
      "23/23 [==============================] - 1s 36ms/step - loss: 9.4211e-07 - mae: 0.0012\n",
      "Epoch 58/100\n",
      "23/23 [==============================] - 1s 34ms/step - loss: 9.1051e-07 - mae: 0.0012\n",
      "Epoch 59/100\n",
      "23/23 [==============================] - 1s 35ms/step - loss: 9.3753e-07 - mae: 0.0012\n",
      "Epoch 60/100\n",
      "23/23 [==============================] - 1s 32ms/step - loss: 9.4082e-07 - mae: 0.0012\n",
      "Epoch 61/100\n",
      "23/23 [==============================] - 1s 33ms/step - loss: 9.0320e-07 - mae: 0.0012\n",
      "Epoch 62/100\n",
      "23/23 [==============================] - 1s 34ms/step - loss: 9.1995e-07 - mae: 0.0012\n",
      "Epoch 63/100\n",
      "23/23 [==============================] - 1s 34ms/step - loss: 9.3309e-07 - mae: 0.0012\n",
      "Epoch 64/100\n",
      "23/23 [==============================] - 1s 33ms/step - loss: 8.9378e-07 - mae: 0.0012\n",
      "Epoch 65/100\n",
      "23/23 [==============================] - 1s 33ms/step - loss: 9.2125e-07 - mae: 0.0012\n",
      "Epoch 66/100\n",
      "23/23 [==============================] - 1s 34ms/step - loss: 9.7537e-07 - mae: 0.0012\n",
      "Epoch 67/100\n",
      "23/23 [==============================] - 1s 37ms/step - loss: 9.0731e-07 - mae: 0.0012\n",
      "Epoch 68/100\n",
      "23/23 [==============================] - 1s 50ms/step - loss: 8.7363e-07 - mae: 0.0012\n",
      "Epoch 69/100\n",
      "23/23 [==============================] - 1s 50ms/step - loss: 8.8124e-07 - mae: 0.0012\n",
      "Epoch 70/100\n",
      "23/23 [==============================] - 1s 40ms/step - loss: 8.8899e-07 - mae: 0.0012\n",
      "Epoch 71/100\n",
      "23/23 [==============================] - 1s 37ms/step - loss: 8.5317e-07 - mae: 0.0012\n",
      "Epoch 72/100\n",
      "23/23 [==============================] - 1s 33ms/step - loss: 8.7597e-07 - mae: 0.0012\n",
      "Epoch 73/100\n",
      "23/23 [==============================] - 1s 34ms/step - loss: 9.0256e-07 - mae: 0.0012\n",
      "Epoch 74/100\n",
      "23/23 [==============================] - 1s 40ms/step - loss: 8.3966e-07 - mae: 0.0012\n",
      "Epoch 75/100\n",
      "23/23 [==============================] - 1s 41ms/step - loss: 8.1542e-07 - mae: 0.0011\n",
      "Epoch 76/100\n",
      "23/23 [==============================] - 1s 45ms/step - loss: 8.0722e-07 - mae: 0.0011\n",
      "Epoch 77/100\n",
      "23/23 [==============================] - 1s 48ms/step - loss: 7.9480e-07 - mae: 0.0011\n",
      "Epoch 78/100\n",
      "23/23 [==============================] - 1s 50ms/step - loss: 8.5149e-07 - mae: 0.0011\n",
      "Epoch 79/100\n",
      "23/23 [==============================] - 1s 52ms/step - loss: 8.0054e-07 - mae: 0.0011\n",
      "Epoch 80/100\n",
      "23/23 [==============================] - 1s 43ms/step - loss: 7.6773e-07 - mae: 0.0011\n",
      "Epoch 81/100\n",
      "23/23 [==============================] - 1s 41ms/step - loss: 8.0982e-07 - mae: 0.0011 ETA: 1s - loss: 6.5140e-07 - mae:\n",
      "Epoch 82/100\n",
      "23/23 [==============================] - 1s 38ms/step - loss: 7.6754e-07 - mae: 0.0011\n",
      "Epoch 83/100\n",
      "23/23 [==============================] - 1s 38ms/step - loss: 7.6081e-07 - mae: 0.0010\n",
      "Epoch 84/100\n",
      "23/23 [==============================] - 1s 39ms/step - loss: 7.3735e-07 - mae: 0.0010\n",
      "Epoch 85/100\n",
      "23/23 [==============================] - 1s 38ms/step - loss: 7.4050e-07 - mae: 0.0010\n",
      "Epoch 86/100\n",
      "23/23 [==============================] - 1s 35ms/step - loss: 7.2064e-07 - mae: 9.9691e-04\n",
      "Epoch 87/100\n",
      "23/23 [==============================] - 1s 36ms/step - loss: 7.0990e-07 - mae: 9.8032e-04\n",
      "Epoch 88/100\n",
      "23/23 [==============================] - 1s 36ms/step - loss: 7.0377e-07 - mae: 9.6793e-04\n",
      "Epoch 89/100\n",
      "23/23 [==============================] - 1s 33ms/step - loss: 7.1051e-07 - mae: 9.5834e-04\n",
      "Epoch 90/100\n",
      "23/23 [==============================] - 1s 38ms/step - loss: 6.9355e-07 - mae: 9.4737e-04\n",
      "Epoch 91/100\n",
      "23/23 [==============================] - 1s 37ms/step - loss: 7.7803e-07 - mae: 9.4166e-04\n",
      "Epoch 92/100\n",
      "23/23 [==============================] - 1s 34ms/step - loss: 6.9584e-07 - mae: 9.3363e-04\n",
      "Epoch 93/100\n",
      "23/23 [==============================] - 1s 35ms/step - loss: 6.9355e-07 - mae: 9.3030e-04\n",
      "Epoch 94/100\n",
      "23/23 [==============================] - 1s 34ms/step - loss: 6.9820e-07 - mae: 9.2603e-04\n",
      "Epoch 95/100\n",
      "23/23 [==============================] - 1s 36ms/step - loss: 6.8510e-07 - mae: 9.1267e-04\n",
      "Epoch 96/100\n",
      "23/23 [==============================] - 1s 39ms/step - loss: 6.9147e-07 - mae: 9.1162e-04\n",
      "Epoch 97/100\n",
      "23/23 [==============================] - 1s 35ms/step - loss: 6.9334e-07 - mae: 9.0592e-04\n",
      "Epoch 98/100\n",
      "23/23 [==============================] - 1s 34ms/step - loss: 6.9446e-07 - mae: 9.1437e-04\n",
      "Epoch 99/100\n",
      "23/23 [==============================] - 1s 36ms/step - loss: 6.7611e-07 - mae: 9.1091e-04\n",
      "Epoch 100/100\n",
      "23/23 [==============================] - 1s 35ms/step - loss: 6.8888e-07 - mae: 8.9471e-04\n",
      "      5/Unknown - 3s 659ms/step - loss: 3.9843e-06 - mae: 0.0029"
     ]
    },
    {
     "data": {
      "text/plain": [
       "[3.984327895523165e-06, 0.0028509009]"
      ]
     },
     "execution_count": 53,
     "metadata": {},
     "output_type": "execute_result"
    }
   ],
   "source": [
    "import tensorflow as tf\n",
    "import numpy as np\n",
    "\n",
    "\n",
    "tf.keras.backend.clear_session()\n",
    "tf.random.set_seed(51)\n",
    "np.random.seed(51)\n",
    "#window_size = 64\n",
    "#batch_size = 256\n",
    "train_set = windowed_dataset(x_train, window_size, batch_size, shuffle_buffer_size)\n",
    "print(train_set)\n",
    "print(x_train.shape)\n",
    "\n",
    "model = tf.keras.models.Sequential([\n",
    "  \n",
    "  tf.keras.layers.Conv1D(filters=32, kernel_size=5,\n",
    "                      strides=1, padding=\"causal\",\n",
    "                      activation=\"relu\",\n",
    "                      input_shape=[None, 1]),\n",
    "  tf.keras.layers.LSTM(64, return_sequences=True),\n",
    "  tf.keras.layers.LSTM(64, return_sequences=True),\n",
    "  tf.keras.layers.Dense(30, activation=\"relu\"),\n",
    "  tf.keras.layers.Dense(10, activation=\"relu\"),\n",
    "  tf.keras.layers.Dense(1),\n",
    "  #tf.keras.layers.Lambda(lambda x: x * 400)\n",
    "])\n",
    "\n",
    "lr_schedule = tf.keras.callbacks.LearningRateScheduler(\n",
    "    lambda epoch: 1e-8 * 10**(epoch / 20))\n",
    "optimizer = tf.keras.optimizers.SGD(lr=1e-8, momentum=0.9)\n",
    "model.compile(loss=tf.keras.losses.Huber(),\n",
    "              optimizer=optimizer,\n",
    "              metrics=[\"mae\"])\n",
    "history = model.fit(train_set, epochs=100, callbacks=[lr_schedule])\n",
    "test_set = windowed_dataset(x_valid, window_size, batch_size, shuffle_buffer_size)\n",
    "model.evaluate(test_set)"
   ]
  },
  {
   "cell_type": "code",
   "execution_count": 65,
   "metadata": {},
   "outputs": [
    {
     "data": {
      "text/plain": [
       "(5.655877526068171e-09,\n",
       " 0.0015757960743081156,\n",
       " 6.840980963593089e-07,\n",
       " 9.775731446855692e-07)"
      ]
     },
     "execution_count": 65,
     "metadata": {},
     "output_type": "execute_result"
    },
    {
     "data": {
      "image/png": "[encoded data removed]",
      "text/plain": [
       "<Figure size 432x288 with 1 Axes>"
      ]
     },
     "metadata": {
      "needs_background": "light"
     },
     "output_type": "display_data"
    }
   ],
   "source": [
    "plt.semilogx(history.history[\"lr\"], history.history[\"loss\"])\n",
    "plt.axis()"
   ]
  },
  {
   "cell_type": "code",
   "execution_count": 66,
   "metadata": {},
   "outputs": [],
   "source": [
    "rnn_forecast = model_forecast(model, series[..., np.newaxis], window_size)\n",
    "rnn_forecast = rnn_forecast[split_time - window_size:-1, -1, 0]"
   ]
  },
  {
   "cell_type": "code",
   "execution_count": 69,
   "metadata": {},
   "outputs": [
    {
     "data": {
      "image/png": "[encoded data removed]",
      "text/plain": [
       "<Figure size 1440x720 with 1 Axes>"
      ]
     },
     "metadata": {
      "needs_background": "light"
     },
     "output_type": "display_data"
    }
   ],
   "source": [
    "plt.figure(figsize=(20, 10))\n",
    "plot_series(time_valid, x_valid)\n",
    "plot_series(time_valid, rnn_forecast)"
   ]
  },
  {
   "cell_type": "code",
   "execution_count": null,
   "metadata": {},
   "outputs": [],
   "source": []
  }
 ],
 "metadata": {
  "colab": {
   "name": "COVID19 Prediction DL model.ipynb",
   "provenance": []
  },
  "kernelspec": {
   "display_name": "Python 3",
   "language": "python",
   "name": "python3"
  },
  "language_info": {
   "codemirror_mode": {
    "name": "ipython",
    "version": 3
   },
   "file_extension": ".py",
   "mimetype": "text/x-python",
   "name": "python",
   "nbconvert_exporter": "python",
   "pygments_lexer": "ipython3",
   "version": "3.7.4"
  }
 },
 "nbformat": 4,
 "nbformat_minor": 4
}
