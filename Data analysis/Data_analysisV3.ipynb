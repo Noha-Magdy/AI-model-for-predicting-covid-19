{
  "nbformat": 4,
  "nbformat_minor": 0,
  "metadata": {
    "colab": {
      "name": "Data analysisV3.ipynb",
      "provenance": [],
      "collapsed_sections": [],
      "authorship_tag": "ABX9TyNsUyirOukIJhm0FUiZE5Z/",
      "include_colab_link": true
    },
    "kernelspec": {
      "name": "python3",
      "display_name": "Python 3"
    }
  },
  "cells": [
    {
      "cell_type": "markdown",
      "metadata": {
        "id": "view-in-github",
        "colab_type": "text"
      },
      "source": [
        "<a href=\"https://colab.research.google.com/github/Noha-Magdy/AI-model-for-predicting-covid-19/blob/master/Data_analysisV3.ipynb\" target=\"_parent\"><img src=\"https://colab.research.google.com/assets/colab-badge.svg\" alt=\"Open In Colab\"/></a>"
      ]
    },
    {
      "cell_type": "code",
      "metadata": {
        "id": "zyh7AbovHpIz",
        "colab_type": "code",
        "colab": {
          "base_uri": "https://localhost:8080/",
          "height": 35
        },
        "outputId": "35fe715f-aa9d-466c-dd30-d5c35211105b"
      },
      "source": [
        "import pandas as pd \n",
        "import numpy as np \n",
        "import seaborn as sns\n",
        "import matplotlib.pyplot as plt \n",
        "import pandas as pd\n",
        "from pandas.io.json import json_normalize\n",
        "import json\n",
        "print('Modules are imported.')"
      ],
      "execution_count": 44,
      "outputs": [
        {
          "output_type": "stream",
          "text": [
            "Modules are imported.\n"
          ],
          "name": "stdout"
        }
      ]
    },
    {
      "cell_type": "code",
      "metadata": {
        "id": "Kbmrx9w2IJ7D",
        "colab_type": "code",
        "colab": {}
      },
      "source": [
        "Corona_dataset = pd.read_csv(\"covid19_Confirmed_dataset.csv\")"
      ],
      "execution_count": 45,
      "outputs": []
    },
    {
      "cell_type": "code",
      "metadata": {
        "id": "Ch2-JUbyG1Uh",
        "colab_type": "code",
        "colab": {}
      },
      "source": [
        "Corona_dataset= Corona_dataset.drop([\"Lat\",\"Long\"],axis = 1)"
      ],
      "execution_count": 46,
      "outputs": []
    },
    {
      "cell_type": "code",
      "metadata": {
        "id": "ySUBMA9DHS_r",
        "colab_type": "code",
        "colab": {
          "base_uri": "https://localhost:8080/",
          "height": 287
        },
        "outputId": "8c46c40f-3fa2-45cd-9025-613356a1849f"
      },
      "source": [
        "#Aggregating the rows by country \n",
        "Corona_dataset_aggregated = Corona_dataset.groupby(\"Country/Region\").sum()\n",
        "Corona_dataset_aggregated.head(5)"
      ],
      "execution_count": 47,
      "outputs": [
        {
          "output_type": "execute_result",
          "data": {
            "text/html": [
              "<div>\n",
              "<style scoped>\n",
              "    .dataframe tbody tr th:only-of-type {\n",
              "        vertical-align: middle;\n",
              "    }\n",
              "\n",
              "    .dataframe tbody tr th {\n",
              "        vertical-align: top;\n",
              "    }\n",
              "\n",
              "    .dataframe thead th {\n",
              "        text-align: right;\n",
              "    }\n",
              "</style>\n",
              "<table border=\"1\" class=\"dataframe\">\n",
              "  <thead>\n",
              "    <tr style=\"text-align: right;\">\n",
              "      <th></th>\n",
              "      <th>1/22/20</th>\n",
              "      <th>1/23/20</th>\n",
              "      <th>1/24/20</th>\n",
              "      <th>1/25/20</th>\n",
              "      <th>1/26/20</th>\n",
              "      <th>1/27/20</th>\n",
              "      <th>1/28/20</th>\n",
              "      <th>1/29/20</th>\n",
              "      <th>1/30/20</th>\n",
              "      <th>1/31/20</th>\n",
              "      <th>2/1/20</th>\n",
              "      <th>2/2/20</th>\n",
              "      <th>2/3/20</th>\n",
              "      <th>2/4/20</th>\n",
              "      <th>2/5/20</th>\n",
              "      <th>2/6/20</th>\n",
              "      <th>2/7/20</th>\n",
              "      <th>2/8/20</th>\n",
              "      <th>2/9/20</th>\n",
              "      <th>2/10/20</th>\n",
              "      <th>2/11/20</th>\n",
              "      <th>2/12/20</th>\n",
              "      <th>2/13/20</th>\n",
              "      <th>2/14/20</th>\n",
              "      <th>2/15/20</th>\n",
              "      <th>2/16/20</th>\n",
              "      <th>2/17/20</th>\n",
              "      <th>2/18/20</th>\n",
              "      <th>2/19/20</th>\n",
              "      <th>2/20/20</th>\n",
              "      <th>2/21/20</th>\n",
              "      <th>2/22/20</th>\n",
              "      <th>2/23/20</th>\n",
              "      <th>2/24/20</th>\n",
              "      <th>2/25/20</th>\n",
              "      <th>2/26/20</th>\n",
              "      <th>2/27/20</th>\n",
              "      <th>2/28/20</th>\n",
              "      <th>2/29/20</th>\n",
              "      <th>3/1/20</th>\n",
              "      <th>...</th>\n",
              "      <th>3/22/20</th>\n",
              "      <th>3/23/20</th>\n",
              "      <th>3/24/20</th>\n",
              "      <th>3/25/20</th>\n",
              "      <th>3/26/20</th>\n",
              "      <th>3/27/20</th>\n",
              "      <th>3/28/20</th>\n",
              "      <th>3/29/20</th>\n",
              "      <th>3/30/20</th>\n",
              "      <th>3/31/20</th>\n",
              "      <th>4/1/20</th>\n",
              "      <th>4/2/20</th>\n",
              "      <th>4/3/20</th>\n",
              "      <th>4/4/20</th>\n",
              "      <th>4/5/20</th>\n",
              "      <th>4/6/20</th>\n",
              "      <th>4/7/20</th>\n",
              "      <th>4/8/20</th>\n",
              "      <th>4/9/20</th>\n",
              "      <th>4/10/20</th>\n",
              "      <th>4/11/20</th>\n",
              "      <th>4/12/20</th>\n",
              "      <th>4/13/20</th>\n",
              "      <th>4/14/20</th>\n",
              "      <th>4/15/20</th>\n",
              "      <th>4/16/20</th>\n",
              "      <th>4/17/20</th>\n",
              "      <th>4/18/20</th>\n",
              "      <th>4/19/20</th>\n",
              "      <th>4/20/20</th>\n",
              "      <th>4/21/20</th>\n",
              "      <th>4/22/20</th>\n",
              "      <th>4/23/20</th>\n",
              "      <th>4/24/20</th>\n",
              "      <th>4/25/20</th>\n",
              "      <th>4/26/20</th>\n",
              "      <th>4/27/20</th>\n",
              "      <th>4/28/20</th>\n",
              "      <th>4/29/20</th>\n",
              "      <th>4/30/20</th>\n",
              "    </tr>\n",
              "    <tr>\n",
              "      <th>Country/Region</th>\n",
              "      <th></th>\n",
              "      <th></th>\n",
              "      <th></th>\n",
              "      <th></th>\n",
              "      <th></th>\n",
              "      <th></th>\n",
              "      <th></th>\n",
              "      <th></th>\n",
              "      <th></th>\n",
              "      <th></th>\n",
              "      <th></th>\n",
              "      <th></th>\n",
              "      <th></th>\n",
              "      <th></th>\n",
              "      <th></th>\n",
              "      <th></th>\n",
              "      <th></th>\n",
              "      <th></th>\n",
              "      <th></th>\n",
              "      <th></th>\n",
              "      <th></th>\n",
              "      <th></th>\n",
              "      <th></th>\n",
              "      <th></th>\n",
              "      <th></th>\n",
              "      <th></th>\n",
              "      <th></th>\n",
              "      <th></th>\n",
              "      <th></th>\n",
              "      <th></th>\n",
              "      <th></th>\n",
              "      <th></th>\n",
              "      <th></th>\n",
              "      <th></th>\n",
              "      <th></th>\n",
              "      <th></th>\n",
              "      <th></th>\n",
              "      <th></th>\n",
              "      <th></th>\n",
              "      <th></th>\n",
              "      <th></th>\n",
              "      <th></th>\n",
              "      <th></th>\n",
              "      <th></th>\n",
              "      <th></th>\n",
              "      <th></th>\n",
              "      <th></th>\n",
              "      <th></th>\n",
              "      <th></th>\n",
              "      <th></th>\n",
              "      <th></th>\n",
              "      <th></th>\n",
              "      <th></th>\n",
              "      <th></th>\n",
              "      <th></th>\n",
              "      <th></th>\n",
              "      <th></th>\n",
              "      <th></th>\n",
              "      <th></th>\n",
              "      <th></th>\n",
              "      <th></th>\n",
              "      <th></th>\n",
              "      <th></th>\n",
              "      <th></th>\n",
              "      <th></th>\n",
              "      <th></th>\n",
              "      <th></th>\n",
              "      <th></th>\n",
              "      <th></th>\n",
              "      <th></th>\n",
              "      <th></th>\n",
              "      <th></th>\n",
              "      <th></th>\n",
              "      <th></th>\n",
              "      <th></th>\n",
              "      <th></th>\n",
              "      <th></th>\n",
              "      <th></th>\n",
              "      <th></th>\n",
              "      <th></th>\n",
              "      <th></th>\n",
              "    </tr>\n",
              "  </thead>\n",
              "  <tbody>\n",
              "    <tr>\n",
              "      <th>Afghanistan</th>\n",
              "      <td>0</td>\n",
              "      <td>0</td>\n",
              "      <td>0</td>\n",
              "      <td>0</td>\n",
              "      <td>0</td>\n",
              "      <td>0</td>\n",
              "      <td>0</td>\n",
              "      <td>0</td>\n",
              "      <td>0</td>\n",
              "      <td>0</td>\n",
              "      <td>0</td>\n",
              "      <td>0</td>\n",
              "      <td>0</td>\n",
              "      <td>0</td>\n",
              "      <td>0</td>\n",
              "      <td>0</td>\n",
              "      <td>0</td>\n",
              "      <td>0</td>\n",
              "      <td>0</td>\n",
              "      <td>0</td>\n",
              "      <td>0</td>\n",
              "      <td>0</td>\n",
              "      <td>0</td>\n",
              "      <td>0</td>\n",
              "      <td>0</td>\n",
              "      <td>0</td>\n",
              "      <td>0</td>\n",
              "      <td>0</td>\n",
              "      <td>0</td>\n",
              "      <td>0</td>\n",
              "      <td>0</td>\n",
              "      <td>0</td>\n",
              "      <td>0</td>\n",
              "      <td>1</td>\n",
              "      <td>1</td>\n",
              "      <td>1</td>\n",
              "      <td>1</td>\n",
              "      <td>1</td>\n",
              "      <td>1</td>\n",
              "      <td>1</td>\n",
              "      <td>...</td>\n",
              "      <td>40</td>\n",
              "      <td>40</td>\n",
              "      <td>74</td>\n",
              "      <td>84</td>\n",
              "      <td>94</td>\n",
              "      <td>110</td>\n",
              "      <td>110</td>\n",
              "      <td>120</td>\n",
              "      <td>170</td>\n",
              "      <td>174</td>\n",
              "      <td>237</td>\n",
              "      <td>273</td>\n",
              "      <td>281</td>\n",
              "      <td>299</td>\n",
              "      <td>349</td>\n",
              "      <td>367</td>\n",
              "      <td>423</td>\n",
              "      <td>444</td>\n",
              "      <td>484</td>\n",
              "      <td>521</td>\n",
              "      <td>555</td>\n",
              "      <td>607</td>\n",
              "      <td>665</td>\n",
              "      <td>714</td>\n",
              "      <td>784</td>\n",
              "      <td>840</td>\n",
              "      <td>906</td>\n",
              "      <td>933</td>\n",
              "      <td>996</td>\n",
              "      <td>1026</td>\n",
              "      <td>1092</td>\n",
              "      <td>1176</td>\n",
              "      <td>1279</td>\n",
              "      <td>1351</td>\n",
              "      <td>1463</td>\n",
              "      <td>1531</td>\n",
              "      <td>1703</td>\n",
              "      <td>1828</td>\n",
              "      <td>1939</td>\n",
              "      <td>2171</td>\n",
              "    </tr>\n",
              "    <tr>\n",
              "      <th>Albania</th>\n",
              "      <td>0</td>\n",
              "      <td>0</td>\n",
              "      <td>0</td>\n",
              "      <td>0</td>\n",
              "      <td>0</td>\n",
              "      <td>0</td>\n",
              "      <td>0</td>\n",
              "      <td>0</td>\n",
              "      <td>0</td>\n",
              "      <td>0</td>\n",
              "      <td>0</td>\n",
              "      <td>0</td>\n",
              "      <td>0</td>\n",
              "      <td>0</td>\n",
              "      <td>0</td>\n",
              "      <td>0</td>\n",
              "      <td>0</td>\n",
              "      <td>0</td>\n",
              "      <td>0</td>\n",
              "      <td>0</td>\n",
              "      <td>0</td>\n",
              "      <td>0</td>\n",
              "      <td>0</td>\n",
              "      <td>0</td>\n",
              "      <td>0</td>\n",
              "      <td>0</td>\n",
              "      <td>0</td>\n",
              "      <td>0</td>\n",
              "      <td>0</td>\n",
              "      <td>0</td>\n",
              "      <td>0</td>\n",
              "      <td>0</td>\n",
              "      <td>0</td>\n",
              "      <td>0</td>\n",
              "      <td>0</td>\n",
              "      <td>0</td>\n",
              "      <td>0</td>\n",
              "      <td>0</td>\n",
              "      <td>0</td>\n",
              "      <td>0</td>\n",
              "      <td>...</td>\n",
              "      <td>89</td>\n",
              "      <td>104</td>\n",
              "      <td>123</td>\n",
              "      <td>146</td>\n",
              "      <td>174</td>\n",
              "      <td>186</td>\n",
              "      <td>197</td>\n",
              "      <td>212</td>\n",
              "      <td>223</td>\n",
              "      <td>243</td>\n",
              "      <td>259</td>\n",
              "      <td>277</td>\n",
              "      <td>304</td>\n",
              "      <td>333</td>\n",
              "      <td>361</td>\n",
              "      <td>377</td>\n",
              "      <td>383</td>\n",
              "      <td>400</td>\n",
              "      <td>409</td>\n",
              "      <td>416</td>\n",
              "      <td>433</td>\n",
              "      <td>446</td>\n",
              "      <td>467</td>\n",
              "      <td>475</td>\n",
              "      <td>494</td>\n",
              "      <td>518</td>\n",
              "      <td>539</td>\n",
              "      <td>548</td>\n",
              "      <td>562</td>\n",
              "      <td>584</td>\n",
              "      <td>609</td>\n",
              "      <td>634</td>\n",
              "      <td>663</td>\n",
              "      <td>678</td>\n",
              "      <td>712</td>\n",
              "      <td>726</td>\n",
              "      <td>736</td>\n",
              "      <td>750</td>\n",
              "      <td>766</td>\n",
              "      <td>773</td>\n",
              "    </tr>\n",
              "    <tr>\n",
              "      <th>Algeria</th>\n",
              "      <td>0</td>\n",
              "      <td>0</td>\n",
              "      <td>0</td>\n",
              "      <td>0</td>\n",
              "      <td>0</td>\n",
              "      <td>0</td>\n",
              "      <td>0</td>\n",
              "      <td>0</td>\n",
              "      <td>0</td>\n",
              "      <td>0</td>\n",
              "      <td>0</td>\n",
              "      <td>0</td>\n",
              "      <td>0</td>\n",
              "      <td>0</td>\n",
              "      <td>0</td>\n",
              "      <td>0</td>\n",
              "      <td>0</td>\n",
              "      <td>0</td>\n",
              "      <td>0</td>\n",
              "      <td>0</td>\n",
              "      <td>0</td>\n",
              "      <td>0</td>\n",
              "      <td>0</td>\n",
              "      <td>0</td>\n",
              "      <td>0</td>\n",
              "      <td>0</td>\n",
              "      <td>0</td>\n",
              "      <td>0</td>\n",
              "      <td>0</td>\n",
              "      <td>0</td>\n",
              "      <td>0</td>\n",
              "      <td>0</td>\n",
              "      <td>0</td>\n",
              "      <td>0</td>\n",
              "      <td>1</td>\n",
              "      <td>1</td>\n",
              "      <td>1</td>\n",
              "      <td>1</td>\n",
              "      <td>1</td>\n",
              "      <td>1</td>\n",
              "      <td>...</td>\n",
              "      <td>201</td>\n",
              "      <td>230</td>\n",
              "      <td>264</td>\n",
              "      <td>302</td>\n",
              "      <td>367</td>\n",
              "      <td>409</td>\n",
              "      <td>454</td>\n",
              "      <td>511</td>\n",
              "      <td>584</td>\n",
              "      <td>716</td>\n",
              "      <td>847</td>\n",
              "      <td>986</td>\n",
              "      <td>1171</td>\n",
              "      <td>1251</td>\n",
              "      <td>1320</td>\n",
              "      <td>1423</td>\n",
              "      <td>1468</td>\n",
              "      <td>1572</td>\n",
              "      <td>1666</td>\n",
              "      <td>1761</td>\n",
              "      <td>1825</td>\n",
              "      <td>1914</td>\n",
              "      <td>1983</td>\n",
              "      <td>2070</td>\n",
              "      <td>2160</td>\n",
              "      <td>2268</td>\n",
              "      <td>2418</td>\n",
              "      <td>2534</td>\n",
              "      <td>2629</td>\n",
              "      <td>2718</td>\n",
              "      <td>2811</td>\n",
              "      <td>2910</td>\n",
              "      <td>3007</td>\n",
              "      <td>3127</td>\n",
              "      <td>3256</td>\n",
              "      <td>3382</td>\n",
              "      <td>3517</td>\n",
              "      <td>3649</td>\n",
              "      <td>3848</td>\n",
              "      <td>4006</td>\n",
              "    </tr>\n",
              "    <tr>\n",
              "      <th>Andorra</th>\n",
              "      <td>0</td>\n",
              "      <td>0</td>\n",
              "      <td>0</td>\n",
              "      <td>0</td>\n",
              "      <td>0</td>\n",
              "      <td>0</td>\n",
              "      <td>0</td>\n",
              "      <td>0</td>\n",
              "      <td>0</td>\n",
              "      <td>0</td>\n",
              "      <td>0</td>\n",
              "      <td>0</td>\n",
              "      <td>0</td>\n",
              "      <td>0</td>\n",
              "      <td>0</td>\n",
              "      <td>0</td>\n",
              "      <td>0</td>\n",
              "      <td>0</td>\n",
              "      <td>0</td>\n",
              "      <td>0</td>\n",
              "      <td>0</td>\n",
              "      <td>0</td>\n",
              "      <td>0</td>\n",
              "      <td>0</td>\n",
              "      <td>0</td>\n",
              "      <td>0</td>\n",
              "      <td>0</td>\n",
              "      <td>0</td>\n",
              "      <td>0</td>\n",
              "      <td>0</td>\n",
              "      <td>0</td>\n",
              "      <td>0</td>\n",
              "      <td>0</td>\n",
              "      <td>0</td>\n",
              "      <td>0</td>\n",
              "      <td>0</td>\n",
              "      <td>0</td>\n",
              "      <td>0</td>\n",
              "      <td>0</td>\n",
              "      <td>0</td>\n",
              "      <td>...</td>\n",
              "      <td>113</td>\n",
              "      <td>133</td>\n",
              "      <td>164</td>\n",
              "      <td>188</td>\n",
              "      <td>224</td>\n",
              "      <td>267</td>\n",
              "      <td>308</td>\n",
              "      <td>334</td>\n",
              "      <td>370</td>\n",
              "      <td>376</td>\n",
              "      <td>390</td>\n",
              "      <td>428</td>\n",
              "      <td>439</td>\n",
              "      <td>466</td>\n",
              "      <td>501</td>\n",
              "      <td>525</td>\n",
              "      <td>545</td>\n",
              "      <td>564</td>\n",
              "      <td>583</td>\n",
              "      <td>601</td>\n",
              "      <td>601</td>\n",
              "      <td>638</td>\n",
              "      <td>646</td>\n",
              "      <td>659</td>\n",
              "      <td>673</td>\n",
              "      <td>673</td>\n",
              "      <td>696</td>\n",
              "      <td>704</td>\n",
              "      <td>713</td>\n",
              "      <td>717</td>\n",
              "      <td>717</td>\n",
              "      <td>723</td>\n",
              "      <td>723</td>\n",
              "      <td>731</td>\n",
              "      <td>738</td>\n",
              "      <td>738</td>\n",
              "      <td>743</td>\n",
              "      <td>743</td>\n",
              "      <td>743</td>\n",
              "      <td>745</td>\n",
              "    </tr>\n",
              "    <tr>\n",
              "      <th>Angola</th>\n",
              "      <td>0</td>\n",
              "      <td>0</td>\n",
              "      <td>0</td>\n",
              "      <td>0</td>\n",
              "      <td>0</td>\n",
              "      <td>0</td>\n",
              "      <td>0</td>\n",
              "      <td>0</td>\n",
              "      <td>0</td>\n",
              "      <td>0</td>\n",
              "      <td>0</td>\n",
              "      <td>0</td>\n",
              "      <td>0</td>\n",
              "      <td>0</td>\n",
              "      <td>0</td>\n",
              "      <td>0</td>\n",
              "      <td>0</td>\n",
              "      <td>0</td>\n",
              "      <td>0</td>\n",
              "      <td>0</td>\n",
              "      <td>0</td>\n",
              "      <td>0</td>\n",
              "      <td>0</td>\n",
              "      <td>0</td>\n",
              "      <td>0</td>\n",
              "      <td>0</td>\n",
              "      <td>0</td>\n",
              "      <td>0</td>\n",
              "      <td>0</td>\n",
              "      <td>0</td>\n",
              "      <td>0</td>\n",
              "      <td>0</td>\n",
              "      <td>0</td>\n",
              "      <td>0</td>\n",
              "      <td>0</td>\n",
              "      <td>0</td>\n",
              "      <td>0</td>\n",
              "      <td>0</td>\n",
              "      <td>0</td>\n",
              "      <td>0</td>\n",
              "      <td>...</td>\n",
              "      <td>2</td>\n",
              "      <td>3</td>\n",
              "      <td>3</td>\n",
              "      <td>3</td>\n",
              "      <td>4</td>\n",
              "      <td>4</td>\n",
              "      <td>5</td>\n",
              "      <td>7</td>\n",
              "      <td>7</td>\n",
              "      <td>7</td>\n",
              "      <td>8</td>\n",
              "      <td>8</td>\n",
              "      <td>8</td>\n",
              "      <td>10</td>\n",
              "      <td>14</td>\n",
              "      <td>16</td>\n",
              "      <td>17</td>\n",
              "      <td>19</td>\n",
              "      <td>19</td>\n",
              "      <td>19</td>\n",
              "      <td>19</td>\n",
              "      <td>19</td>\n",
              "      <td>19</td>\n",
              "      <td>19</td>\n",
              "      <td>19</td>\n",
              "      <td>19</td>\n",
              "      <td>19</td>\n",
              "      <td>24</td>\n",
              "      <td>24</td>\n",
              "      <td>24</td>\n",
              "      <td>24</td>\n",
              "      <td>25</td>\n",
              "      <td>25</td>\n",
              "      <td>25</td>\n",
              "      <td>25</td>\n",
              "      <td>26</td>\n",
              "      <td>27</td>\n",
              "      <td>27</td>\n",
              "      <td>27</td>\n",
              "      <td>27</td>\n",
              "    </tr>\n",
              "  </tbody>\n",
              "</table>\n",
              "<p>5 rows × 100 columns</p>\n",
              "</div>"
            ],
            "text/plain": [
              "                1/22/20  1/23/20  1/24/20  ...  4/28/20  4/29/20  4/30/20\n",
              "Country/Region                             ...                           \n",
              "Afghanistan           0        0        0  ...     1828     1939     2171\n",
              "Albania               0        0        0  ...      750      766      773\n",
              "Algeria               0        0        0  ...     3649     3848     4006\n",
              "Andorra               0        0        0  ...      743      743      745\n",
              "Angola                0        0        0  ...       27       27       27\n",
              "\n",
              "[5 rows x 100 columns]"
            ]
          },
          "metadata": {
            "tags": []
          },
          "execution_count": 47
        }
      ]
    },
    {
      "cell_type": "code",
      "metadata": {
        "id": "JyvJL64sHsNQ",
        "colab_type": "code",
        "colab": {
          "base_uri": "https://localhost:8080/",
          "height": 283
        },
        "outputId": "ae5c1066-901f-45ae-8db5-352200418327"
      },
      "source": [
        "Corona_dataset_aggregated.loc[\"Egypt\"][:3].plot()"
      ],
      "execution_count": 48,
      "outputs": [
        {
          "output_type": "execute_result",
          "data": {
            "text/plain": [
              "<matplotlib.axes._subplots.AxesSubplot at 0x7f5f6198db00>"
            ]
          },
          "metadata": {
            "tags": []
          },
          "execution_count": 48
        },
        {
          "output_type": "display_data",
          "data": {
            "image/png": "[encoded data removed]",
            "text/plain": [
              "<Figure size 432x288 with 1 Axes>"
            ]
          },
          "metadata": {
            "tags": [],
            "needs_background": "light"
          }
        }
      ]
    },
    {
      "cell_type": "code",
      "metadata": {
        "id": "-lsz1HbyMtzP",
        "colab_type": "code",
        "colab": {
          "base_uri": "https://localhost:8080/",
          "height": 283
        },
        "outputId": "fb978032-3f8e-4df9-a72a-c4d9ecdd25d3"
      },
      "source": [
        "#Calculating and plotting the first derivative of the curve \n",
        "Corona_dataset_aggregated.loc[\"Egypt\"].diff().plot()"
      ],
      "execution_count": 49,
      "outputs": [
        {
          "output_type": "execute_result",
          "data": {
            "text/plain": [
              "<matplotlib.axes._subplots.AxesSubplot at 0x7f5f6001bb38>"
            ]
          },
          "metadata": {
            "tags": []
          },
          "execution_count": 49
        },
        {
          "output_type": "display_data",
          "data": {
            "image/png": "[encoded data removed]",
            "text/plain": [
              "<Figure size 432x288 with 1 Axes>"
            ]
          },
          "metadata": {
            "tags": [],
            "needs_background": "light"
          }
        }
      ]
    },
    {
      "cell_type": "code",
      "metadata": {
        "id": "1jrk78JMNGCQ",
        "colab_type": "code",
        "colab": {
          "base_uri": "https://localhost:8080/",
          "height": 35
        },
        "outputId": "9714aeb5-5ef3-49f2-d50e-bb00d4bfeab1"
      },
      "source": [
        "#Finding the maximum infection rate for Egypt \n",
        "Corona_dataset_aggregated.loc[\"Egypt\"].diff().max()"
      ],
      "execution_count": 50,
      "outputs": [
        {
          "output_type": "execute_result",
          "data": {
            "text/plain": [
              "269.0"
            ]
          },
          "metadata": {
            "tags": []
          },
          "execution_count": 50
        }
      ]
    },
    {
      "cell_type": "code",
      "metadata": {
        "id": "FXW6AtxUNX1B",
        "colab_type": "code",
        "colab": {}
      },
      "source": [
        "#Create a new column which is the mximum infection rate \n",
        "countries = list(Corona_dataset_aggregated.index)\n",
        "max_infection_rates = []\n",
        "for c in countries :\n",
        "  max_infection_rates.append(Corona_dataset_aggregated.loc[c].diff().max())\n",
        "Corona_dataset_aggregated[\"max_infection_rate\"] = max_infection_rates"
      ],
      "execution_count": 51,
      "outputs": []
    },
    {
      "cell_type": "code",
      "metadata": {
        "id": "vcXH4DFZOTIv",
        "colab_type": "code",
        "colab": {
          "base_uri": "https://localhost:8080/",
          "height": 287
        },
        "outputId": "8b1301c3-5cfc-45cb-9dd6-d1732660e4c3"
      },
      "source": [
        "Corona_dataset_aggregated.head()"
      ],
      "execution_count": 52,
      "outputs": [
        {
          "output_type": "execute_result",
          "data": {
            "text/html": [
              "<div>\n",
              "<style scoped>\n",
              "    .dataframe tbody tr th:only-of-type {\n",
              "        vertical-align: middle;\n",
              "    }\n",
              "\n",
              "    .dataframe tbody tr th {\n",
              "        vertical-align: top;\n",
              "    }\n",
              "\n",
              "    .dataframe thead th {\n",
              "        text-align: right;\n",
              "    }\n",
              "</style>\n",
              "<table border=\"1\" class=\"dataframe\">\n",
              "  <thead>\n",
              "    <tr style=\"text-align: right;\">\n",
              "      <th></th>\n",
              "      <th>1/22/20</th>\n",
              "      <th>1/23/20</th>\n",
              "      <th>1/24/20</th>\n",
              "      <th>1/25/20</th>\n",
              "      <th>1/26/20</th>\n",
              "      <th>1/27/20</th>\n",
              "      <th>1/28/20</th>\n",
              "      <th>1/29/20</th>\n",
              "      <th>1/30/20</th>\n",
              "      <th>1/31/20</th>\n",
              "      <th>2/1/20</th>\n",
              "      <th>2/2/20</th>\n",
              "      <th>2/3/20</th>\n",
              "      <th>2/4/20</th>\n",
              "      <th>2/5/20</th>\n",
              "      <th>2/6/20</th>\n",
              "      <th>2/7/20</th>\n",
              "      <th>2/8/20</th>\n",
              "      <th>2/9/20</th>\n",
              "      <th>2/10/20</th>\n",
              "      <th>2/11/20</th>\n",
              "      <th>2/12/20</th>\n",
              "      <th>2/13/20</th>\n",
              "      <th>2/14/20</th>\n",
              "      <th>2/15/20</th>\n",
              "      <th>2/16/20</th>\n",
              "      <th>2/17/20</th>\n",
              "      <th>2/18/20</th>\n",
              "      <th>2/19/20</th>\n",
              "      <th>2/20/20</th>\n",
              "      <th>2/21/20</th>\n",
              "      <th>2/22/20</th>\n",
              "      <th>2/23/20</th>\n",
              "      <th>2/24/20</th>\n",
              "      <th>2/25/20</th>\n",
              "      <th>2/26/20</th>\n",
              "      <th>2/27/20</th>\n",
              "      <th>2/28/20</th>\n",
              "      <th>2/29/20</th>\n",
              "      <th>3/1/20</th>\n",
              "      <th>...</th>\n",
              "      <th>3/23/20</th>\n",
              "      <th>3/24/20</th>\n",
              "      <th>3/25/20</th>\n",
              "      <th>3/26/20</th>\n",
              "      <th>3/27/20</th>\n",
              "      <th>3/28/20</th>\n",
              "      <th>3/29/20</th>\n",
              "      <th>3/30/20</th>\n",
              "      <th>3/31/20</th>\n",
              "      <th>4/1/20</th>\n",
              "      <th>4/2/20</th>\n",
              "      <th>4/3/20</th>\n",
              "      <th>4/4/20</th>\n",
              "      <th>4/5/20</th>\n",
              "      <th>4/6/20</th>\n",
              "      <th>4/7/20</th>\n",
              "      <th>4/8/20</th>\n",
              "      <th>4/9/20</th>\n",
              "      <th>4/10/20</th>\n",
              "      <th>4/11/20</th>\n",
              "      <th>4/12/20</th>\n",
              "      <th>4/13/20</th>\n",
              "      <th>4/14/20</th>\n",
              "      <th>4/15/20</th>\n",
              "      <th>4/16/20</th>\n",
              "      <th>4/17/20</th>\n",
              "      <th>4/18/20</th>\n",
              "      <th>4/19/20</th>\n",
              "      <th>4/20/20</th>\n",
              "      <th>4/21/20</th>\n",
              "      <th>4/22/20</th>\n",
              "      <th>4/23/20</th>\n",
              "      <th>4/24/20</th>\n",
              "      <th>4/25/20</th>\n",
              "      <th>4/26/20</th>\n",
              "      <th>4/27/20</th>\n",
              "      <th>4/28/20</th>\n",
              "      <th>4/29/20</th>\n",
              "      <th>4/30/20</th>\n",
              "      <th>max_infection_rate</th>\n",
              "    </tr>\n",
              "    <tr>\n",
              "      <th>Country/Region</th>\n",
              "      <th></th>\n",
              "      <th></th>\n",
              "      <th></th>\n",
              "      <th></th>\n",
              "      <th></th>\n",
              "      <th></th>\n",
              "      <th></th>\n",
              "      <th></th>\n",
              "      <th></th>\n",
              "      <th></th>\n",
              "      <th></th>\n",
              "      <th></th>\n",
              "      <th></th>\n",
              "      <th></th>\n",
              "      <th></th>\n",
              "      <th></th>\n",
              "      <th></th>\n",
              "      <th></th>\n",
              "      <th></th>\n",
              "      <th></th>\n",
              "      <th></th>\n",
              "      <th></th>\n",
              "      <th></th>\n",
              "      <th></th>\n",
              "      <th></th>\n",
              "      <th></th>\n",
              "      <th></th>\n",
              "      <th></th>\n",
              "      <th></th>\n",
              "      <th></th>\n",
              "      <th></th>\n",
              "      <th></th>\n",
              "      <th></th>\n",
              "      <th></th>\n",
              "      <th></th>\n",
              "      <th></th>\n",
              "      <th></th>\n",
              "      <th></th>\n",
              "      <th></th>\n",
              "      <th></th>\n",
              "      <th></th>\n",
              "      <th></th>\n",
              "      <th></th>\n",
              "      <th></th>\n",
              "      <th></th>\n",
              "      <th></th>\n",
              "      <th></th>\n",
              "      <th></th>\n",
              "      <th></th>\n",
              "      <th></th>\n",
              "      <th></th>\n",
              "      <th></th>\n",
              "      <th></th>\n",
              "      <th></th>\n",
              "      <th></th>\n",
              "      <th></th>\n",
              "      <th></th>\n",
              "      <th></th>\n",
              "      <th></th>\n",
              "      <th></th>\n",
              "      <th></th>\n",
              "      <th></th>\n",
              "      <th></th>\n",
              "      <th></th>\n",
              "      <th></th>\n",
              "      <th></th>\n",
              "      <th></th>\n",
              "      <th></th>\n",
              "      <th></th>\n",
              "      <th></th>\n",
              "      <th></th>\n",
              "      <th></th>\n",
              "      <th></th>\n",
              "      <th></th>\n",
              "      <th></th>\n",
              "      <th></th>\n",
              "      <th></th>\n",
              "      <th></th>\n",
              "      <th></th>\n",
              "      <th></th>\n",
              "      <th></th>\n",
              "    </tr>\n",
              "  </thead>\n",
              "  <tbody>\n",
              "    <tr>\n",
              "      <th>Afghanistan</th>\n",
              "      <td>0</td>\n",
              "      <td>0</td>\n",
              "      <td>0</td>\n",
              "      <td>0</td>\n",
              "      <td>0</td>\n",
              "      <td>0</td>\n",
              "      <td>0</td>\n",
              "      <td>0</td>\n",
              "      <td>0</td>\n",
              "      <td>0</td>\n",
              "      <td>0</td>\n",
              "      <td>0</td>\n",
              "      <td>0</td>\n",
              "      <td>0</td>\n",
              "      <td>0</td>\n",
              "      <td>0</td>\n",
              "      <td>0</td>\n",
              "      <td>0</td>\n",
              "      <td>0</td>\n",
              "      <td>0</td>\n",
              "      <td>0</td>\n",
              "      <td>0</td>\n",
              "      <td>0</td>\n",
              "      <td>0</td>\n",
              "      <td>0</td>\n",
              "      <td>0</td>\n",
              "      <td>0</td>\n",
              "      <td>0</td>\n",
              "      <td>0</td>\n",
              "      <td>0</td>\n",
              "      <td>0</td>\n",
              "      <td>0</td>\n",
              "      <td>0</td>\n",
              "      <td>1</td>\n",
              "      <td>1</td>\n",
              "      <td>1</td>\n",
              "      <td>1</td>\n",
              "      <td>1</td>\n",
              "      <td>1</td>\n",
              "      <td>1</td>\n",
              "      <td>...</td>\n",
              "      <td>40</td>\n",
              "      <td>74</td>\n",
              "      <td>84</td>\n",
              "      <td>94</td>\n",
              "      <td>110</td>\n",
              "      <td>110</td>\n",
              "      <td>120</td>\n",
              "      <td>170</td>\n",
              "      <td>174</td>\n",
              "      <td>237</td>\n",
              "      <td>273</td>\n",
              "      <td>281</td>\n",
              "      <td>299</td>\n",
              "      <td>349</td>\n",
              "      <td>367</td>\n",
              "      <td>423</td>\n",
              "      <td>444</td>\n",
              "      <td>484</td>\n",
              "      <td>521</td>\n",
              "      <td>555</td>\n",
              "      <td>607</td>\n",
              "      <td>665</td>\n",
              "      <td>714</td>\n",
              "      <td>784</td>\n",
              "      <td>840</td>\n",
              "      <td>906</td>\n",
              "      <td>933</td>\n",
              "      <td>996</td>\n",
              "      <td>1026</td>\n",
              "      <td>1092</td>\n",
              "      <td>1176</td>\n",
              "      <td>1279</td>\n",
              "      <td>1351</td>\n",
              "      <td>1463</td>\n",
              "      <td>1531</td>\n",
              "      <td>1703</td>\n",
              "      <td>1828</td>\n",
              "      <td>1939</td>\n",
              "      <td>2171</td>\n",
              "      <td>232.0</td>\n",
              "    </tr>\n",
              "    <tr>\n",
              "      <th>Albania</th>\n",
              "      <td>0</td>\n",
              "      <td>0</td>\n",
              "      <td>0</td>\n",
              "      <td>0</td>\n",
              "      <td>0</td>\n",
              "      <td>0</td>\n",
              "      <td>0</td>\n",
              "      <td>0</td>\n",
              "      <td>0</td>\n",
              "      <td>0</td>\n",
              "      <td>0</td>\n",
              "      <td>0</td>\n",
              "      <td>0</td>\n",
              "      <td>0</td>\n",
              "      <td>0</td>\n",
              "      <td>0</td>\n",
              "      <td>0</td>\n",
              "      <td>0</td>\n",
              "      <td>0</td>\n",
              "      <td>0</td>\n",
              "      <td>0</td>\n",
              "      <td>0</td>\n",
              "      <td>0</td>\n",
              "      <td>0</td>\n",
              "      <td>0</td>\n",
              "      <td>0</td>\n",
              "      <td>0</td>\n",
              "      <td>0</td>\n",
              "      <td>0</td>\n",
              "      <td>0</td>\n",
              "      <td>0</td>\n",
              "      <td>0</td>\n",
              "      <td>0</td>\n",
              "      <td>0</td>\n",
              "      <td>0</td>\n",
              "      <td>0</td>\n",
              "      <td>0</td>\n",
              "      <td>0</td>\n",
              "      <td>0</td>\n",
              "      <td>0</td>\n",
              "      <td>...</td>\n",
              "      <td>104</td>\n",
              "      <td>123</td>\n",
              "      <td>146</td>\n",
              "      <td>174</td>\n",
              "      <td>186</td>\n",
              "      <td>197</td>\n",
              "      <td>212</td>\n",
              "      <td>223</td>\n",
              "      <td>243</td>\n",
              "      <td>259</td>\n",
              "      <td>277</td>\n",
              "      <td>304</td>\n",
              "      <td>333</td>\n",
              "      <td>361</td>\n",
              "      <td>377</td>\n",
              "      <td>383</td>\n",
              "      <td>400</td>\n",
              "      <td>409</td>\n",
              "      <td>416</td>\n",
              "      <td>433</td>\n",
              "      <td>446</td>\n",
              "      <td>467</td>\n",
              "      <td>475</td>\n",
              "      <td>494</td>\n",
              "      <td>518</td>\n",
              "      <td>539</td>\n",
              "      <td>548</td>\n",
              "      <td>562</td>\n",
              "      <td>584</td>\n",
              "      <td>609</td>\n",
              "      <td>634</td>\n",
              "      <td>663</td>\n",
              "      <td>678</td>\n",
              "      <td>712</td>\n",
              "      <td>726</td>\n",
              "      <td>736</td>\n",
              "      <td>750</td>\n",
              "      <td>766</td>\n",
              "      <td>773</td>\n",
              "      <td>34.0</td>\n",
              "    </tr>\n",
              "    <tr>\n",
              "      <th>Algeria</th>\n",
              "      <td>0</td>\n",
              "      <td>0</td>\n",
              "      <td>0</td>\n",
              "      <td>0</td>\n",
              "      <td>0</td>\n",
              "      <td>0</td>\n",
              "      <td>0</td>\n",
              "      <td>0</td>\n",
              "      <td>0</td>\n",
              "      <td>0</td>\n",
              "      <td>0</td>\n",
              "      <td>0</td>\n",
              "      <td>0</td>\n",
              "      <td>0</td>\n",
              "      <td>0</td>\n",
              "      <td>0</td>\n",
              "      <td>0</td>\n",
              "      <td>0</td>\n",
              "      <td>0</td>\n",
              "      <td>0</td>\n",
              "      <td>0</td>\n",
              "      <td>0</td>\n",
              "      <td>0</td>\n",
              "      <td>0</td>\n",
              "      <td>0</td>\n",
              "      <td>0</td>\n",
              "      <td>0</td>\n",
              "      <td>0</td>\n",
              "      <td>0</td>\n",
              "      <td>0</td>\n",
              "      <td>0</td>\n",
              "      <td>0</td>\n",
              "      <td>0</td>\n",
              "      <td>0</td>\n",
              "      <td>1</td>\n",
              "      <td>1</td>\n",
              "      <td>1</td>\n",
              "      <td>1</td>\n",
              "      <td>1</td>\n",
              "      <td>1</td>\n",
              "      <td>...</td>\n",
              "      <td>230</td>\n",
              "      <td>264</td>\n",
              "      <td>302</td>\n",
              "      <td>367</td>\n",
              "      <td>409</td>\n",
              "      <td>454</td>\n",
              "      <td>511</td>\n",
              "      <td>584</td>\n",
              "      <td>716</td>\n",
              "      <td>847</td>\n",
              "      <td>986</td>\n",
              "      <td>1171</td>\n",
              "      <td>1251</td>\n",
              "      <td>1320</td>\n",
              "      <td>1423</td>\n",
              "      <td>1468</td>\n",
              "      <td>1572</td>\n",
              "      <td>1666</td>\n",
              "      <td>1761</td>\n",
              "      <td>1825</td>\n",
              "      <td>1914</td>\n",
              "      <td>1983</td>\n",
              "      <td>2070</td>\n",
              "      <td>2160</td>\n",
              "      <td>2268</td>\n",
              "      <td>2418</td>\n",
              "      <td>2534</td>\n",
              "      <td>2629</td>\n",
              "      <td>2718</td>\n",
              "      <td>2811</td>\n",
              "      <td>2910</td>\n",
              "      <td>3007</td>\n",
              "      <td>3127</td>\n",
              "      <td>3256</td>\n",
              "      <td>3382</td>\n",
              "      <td>3517</td>\n",
              "      <td>3649</td>\n",
              "      <td>3848</td>\n",
              "      <td>4006</td>\n",
              "      <td>199.0</td>\n",
              "    </tr>\n",
              "    <tr>\n",
              "      <th>Andorra</th>\n",
              "      <td>0</td>\n",
              "      <td>0</td>\n",
              "      <td>0</td>\n",
              "      <td>0</td>\n",
              "      <td>0</td>\n",
              "      <td>0</td>\n",
              "      <td>0</td>\n",
              "      <td>0</td>\n",
              "      <td>0</td>\n",
              "      <td>0</td>\n",
              "      <td>0</td>\n",
              "      <td>0</td>\n",
              "      <td>0</td>\n",
              "      <td>0</td>\n",
              "      <td>0</td>\n",
              "      <td>0</td>\n",
              "      <td>0</td>\n",
              "      <td>0</td>\n",
              "      <td>0</td>\n",
              "      <td>0</td>\n",
              "      <td>0</td>\n",
              "      <td>0</td>\n",
              "      <td>0</td>\n",
              "      <td>0</td>\n",
              "      <td>0</td>\n",
              "      <td>0</td>\n",
              "      <td>0</td>\n",
              "      <td>0</td>\n",
              "      <td>0</td>\n",
              "      <td>0</td>\n",
              "      <td>0</td>\n",
              "      <td>0</td>\n",
              "      <td>0</td>\n",
              "      <td>0</td>\n",
              "      <td>0</td>\n",
              "      <td>0</td>\n",
              "      <td>0</td>\n",
              "      <td>0</td>\n",
              "      <td>0</td>\n",
              "      <td>0</td>\n",
              "      <td>...</td>\n",
              "      <td>133</td>\n",
              "      <td>164</td>\n",
              "      <td>188</td>\n",
              "      <td>224</td>\n",
              "      <td>267</td>\n",
              "      <td>308</td>\n",
              "      <td>334</td>\n",
              "      <td>370</td>\n",
              "      <td>376</td>\n",
              "      <td>390</td>\n",
              "      <td>428</td>\n",
              "      <td>439</td>\n",
              "      <td>466</td>\n",
              "      <td>501</td>\n",
              "      <td>525</td>\n",
              "      <td>545</td>\n",
              "      <td>564</td>\n",
              "      <td>583</td>\n",
              "      <td>601</td>\n",
              "      <td>601</td>\n",
              "      <td>638</td>\n",
              "      <td>646</td>\n",
              "      <td>659</td>\n",
              "      <td>673</td>\n",
              "      <td>673</td>\n",
              "      <td>696</td>\n",
              "      <td>704</td>\n",
              "      <td>713</td>\n",
              "      <td>717</td>\n",
              "      <td>717</td>\n",
              "      <td>723</td>\n",
              "      <td>723</td>\n",
              "      <td>731</td>\n",
              "      <td>738</td>\n",
              "      <td>738</td>\n",
              "      <td>743</td>\n",
              "      <td>743</td>\n",
              "      <td>743</td>\n",
              "      <td>745</td>\n",
              "      <td>43.0</td>\n",
              "    </tr>\n",
              "    <tr>\n",
              "      <th>Angola</th>\n",
              "      <td>0</td>\n",
              "      <td>0</td>\n",
              "      <td>0</td>\n",
              "      <td>0</td>\n",
              "      <td>0</td>\n",
              "      <td>0</td>\n",
              "      <td>0</td>\n",
              "      <td>0</td>\n",
              "      <td>0</td>\n",
              "      <td>0</td>\n",
              "      <td>0</td>\n",
              "      <td>0</td>\n",
              "      <td>0</td>\n",
              "      <td>0</td>\n",
              "      <td>0</td>\n",
              "      <td>0</td>\n",
              "      <td>0</td>\n",
              "      <td>0</td>\n",
              "      <td>0</td>\n",
              "      <td>0</td>\n",
              "      <td>0</td>\n",
              "      <td>0</td>\n",
              "      <td>0</td>\n",
              "      <td>0</td>\n",
              "      <td>0</td>\n",
              "      <td>0</td>\n",
              "      <td>0</td>\n",
              "      <td>0</td>\n",
              "      <td>0</td>\n",
              "      <td>0</td>\n",
              "      <td>0</td>\n",
              "      <td>0</td>\n",
              "      <td>0</td>\n",
              "      <td>0</td>\n",
              "      <td>0</td>\n",
              "      <td>0</td>\n",
              "      <td>0</td>\n",
              "      <td>0</td>\n",
              "      <td>0</td>\n",
              "      <td>0</td>\n",
              "      <td>...</td>\n",
              "      <td>3</td>\n",
              "      <td>3</td>\n",
              "      <td>3</td>\n",
              "      <td>4</td>\n",
              "      <td>4</td>\n",
              "      <td>5</td>\n",
              "      <td>7</td>\n",
              "      <td>7</td>\n",
              "      <td>7</td>\n",
              "      <td>8</td>\n",
              "      <td>8</td>\n",
              "      <td>8</td>\n",
              "      <td>10</td>\n",
              "      <td>14</td>\n",
              "      <td>16</td>\n",
              "      <td>17</td>\n",
              "      <td>19</td>\n",
              "      <td>19</td>\n",
              "      <td>19</td>\n",
              "      <td>19</td>\n",
              "      <td>19</td>\n",
              "      <td>19</td>\n",
              "      <td>19</td>\n",
              "      <td>19</td>\n",
              "      <td>19</td>\n",
              "      <td>19</td>\n",
              "      <td>24</td>\n",
              "      <td>24</td>\n",
              "      <td>24</td>\n",
              "      <td>24</td>\n",
              "      <td>25</td>\n",
              "      <td>25</td>\n",
              "      <td>25</td>\n",
              "      <td>25</td>\n",
              "      <td>26</td>\n",
              "      <td>27</td>\n",
              "      <td>27</td>\n",
              "      <td>27</td>\n",
              "      <td>27</td>\n",
              "      <td>5.0</td>\n",
              "    </tr>\n",
              "  </tbody>\n",
              "</table>\n",
              "<p>5 rows × 101 columns</p>\n",
              "</div>"
            ],
            "text/plain": [
              "                1/22/20  1/23/20  1/24/20  ...  4/29/20  4/30/20  max_infection_rate\n",
              "Country/Region                             ...                                      \n",
              "Afghanistan           0        0        0  ...     1939     2171               232.0\n",
              "Albania               0        0        0  ...      766      773                34.0\n",
              "Algeria               0        0        0  ...     3848     4006               199.0\n",
              "Andorra               0        0        0  ...      743      745                43.0\n",
              "Angola                0        0        0  ...       27       27                 5.0\n",
              "\n",
              "[5 rows x 101 columns]"
            ]
          },
          "metadata": {
            "tags": []
          },
          "execution_count": 52
        }
      ]
    },
    {
      "cell_type": "code",
      "metadata": {
        "id": "aqBtW1YaUGCj",
        "colab_type": "code",
        "colab": {
          "base_uri": "https://localhost:8080/",
          "height": 238
        },
        "outputId": "52104ca9-4fc1-4033-cedd-b80b191a4155"
      },
      "source": [
        "Corona_data = pd.DataFrame(Corona_dataset_aggregated[\"max_infection_rate\"])\n",
        "Corona_data.head()"
      ],
      "execution_count": 53,
      "outputs": [
        {
          "output_type": "execute_result",
          "data": {
            "text/html": [
              "<div>\n",
              "<style scoped>\n",
              "    .dataframe tbody tr th:only-of-type {\n",
              "        vertical-align: middle;\n",
              "    }\n",
              "\n",
              "    .dataframe tbody tr th {\n",
              "        vertical-align: top;\n",
              "    }\n",
              "\n",
              "    .dataframe thead th {\n",
              "        text-align: right;\n",
              "    }\n",
              "</style>\n",
              "<table border=\"1\" class=\"dataframe\">\n",
              "  <thead>\n",
              "    <tr style=\"text-align: right;\">\n",
              "      <th></th>\n",
              "      <th>max_infection_rate</th>\n",
              "    </tr>\n",
              "    <tr>\n",
              "      <th>Country/Region</th>\n",
              "      <th></th>\n",
              "    </tr>\n",
              "  </thead>\n",
              "  <tbody>\n",
              "    <tr>\n",
              "      <th>Afghanistan</th>\n",
              "      <td>232.0</td>\n",
              "    </tr>\n",
              "    <tr>\n",
              "      <th>Albania</th>\n",
              "      <td>34.0</td>\n",
              "    </tr>\n",
              "    <tr>\n",
              "      <th>Algeria</th>\n",
              "      <td>199.0</td>\n",
              "    </tr>\n",
              "    <tr>\n",
              "      <th>Andorra</th>\n",
              "      <td>43.0</td>\n",
              "    </tr>\n",
              "    <tr>\n",
              "      <th>Angola</th>\n",
              "      <td>5.0</td>\n",
              "    </tr>\n",
              "  </tbody>\n",
              "</table>\n",
              "</div>"
            ],
            "text/plain": [
              "                max_infection_rate\n",
              "Country/Region                    \n",
              "Afghanistan                  232.0\n",
              "Albania                       34.0\n",
              "Algeria                      199.0\n",
              "Andorra                       43.0\n",
              "Angola                         5.0"
            ]
          },
          "metadata": {
            "tags": []
          },
          "execution_count": 53
        }
      ]
    },
    {
      "cell_type": "code",
      "metadata": {
        "id": "TcJErOd6Mb7m",
        "colab_type": "code",
        "colab": {
          "base_uri": "https://localhost:8080/",
          "height": 35
        },
        "outputId": "1579af62-173a-4f87-b99e-a0dddf13ad52"
      },
      "source": [
        "zz= Corona_data.iloc[53]\n",
        "print(Corona_data.index[53])"
      ],
      "execution_count": 54,
      "outputs": [
        {
          "output_type": "stream",
          "text": [
            "Egypt\n"
          ],
          "name": "stdout"
        }
      ]
    },
    {
      "cell_type": "code",
      "metadata": {
        "id": "4NhDgQ6QO6uN",
        "colab_type": "code",
        "colab": {
          "base_uri": "https://localhost:8080/",
          "height": 224
        },
        "outputId": "e81a349c-8d83-49ff-9474-6e5dfa4a978d"
      },
      "source": [
        "#Importing the happiness worldwide dataset\n",
        "happines_csv = pd.read_csv(\"worldwide_happiness_report.csv\")\n",
        "happines_csv.head() "
      ],
      "execution_count": 55,
      "outputs": [
        {
          "output_type": "execute_result",
          "data": {
            "text/html": [
              "<div>\n",
              "<style scoped>\n",
              "    .dataframe tbody tr th:only-of-type {\n",
              "        vertical-align: middle;\n",
              "    }\n",
              "\n",
              "    .dataframe tbody tr th {\n",
              "        vertical-align: top;\n",
              "    }\n",
              "\n",
              "    .dataframe thead th {\n",
              "        text-align: right;\n",
              "    }\n",
              "</style>\n",
              "<table border=\"1\" class=\"dataframe\">\n",
              "  <thead>\n",
              "    <tr style=\"text-align: right;\">\n",
              "      <th></th>\n",
              "      <th>Overall rank</th>\n",
              "      <th>Country or region</th>\n",
              "      <th>Score</th>\n",
              "      <th>GDP per capita</th>\n",
              "      <th>Social support</th>\n",
              "      <th>Healthy life expectancy</th>\n",
              "      <th>Freedom to make life choices</th>\n",
              "      <th>Generosity</th>\n",
              "      <th>Perceptions of corruption</th>\n",
              "    </tr>\n",
              "  </thead>\n",
              "  <tbody>\n",
              "    <tr>\n",
              "      <th>0</th>\n",
              "      <td>1</td>\n",
              "      <td>Finland</td>\n",
              "      <td>7.769</td>\n",
              "      <td>1.340</td>\n",
              "      <td>1.587</td>\n",
              "      <td>0.986</td>\n",
              "      <td>0.596</td>\n",
              "      <td>0.153</td>\n",
              "      <td>0.393</td>\n",
              "    </tr>\n",
              "    <tr>\n",
              "      <th>1</th>\n",
              "      <td>2</td>\n",
              "      <td>Denmark</td>\n",
              "      <td>7.600</td>\n",
              "      <td>1.383</td>\n",
              "      <td>1.573</td>\n",
              "      <td>0.996</td>\n",
              "      <td>0.592</td>\n",
              "      <td>0.252</td>\n",
              "      <td>0.410</td>\n",
              "    </tr>\n",
              "    <tr>\n",
              "      <th>2</th>\n",
              "      <td>3</td>\n",
              "      <td>Norway</td>\n",
              "      <td>7.554</td>\n",
              "      <td>1.488</td>\n",
              "      <td>1.582</td>\n",
              "      <td>1.028</td>\n",
              "      <td>0.603</td>\n",
              "      <td>0.271</td>\n",
              "      <td>0.341</td>\n",
              "    </tr>\n",
              "    <tr>\n",
              "      <th>3</th>\n",
              "      <td>4</td>\n",
              "      <td>Iceland</td>\n",
              "      <td>7.494</td>\n",
              "      <td>1.380</td>\n",
              "      <td>1.624</td>\n",
              "      <td>1.026</td>\n",
              "      <td>0.591</td>\n",
              "      <td>0.354</td>\n",
              "      <td>0.118</td>\n",
              "    </tr>\n",
              "    <tr>\n",
              "      <th>4</th>\n",
              "      <td>5</td>\n",
              "      <td>Netherlands</td>\n",
              "      <td>7.488</td>\n",
              "      <td>1.396</td>\n",
              "      <td>1.522</td>\n",
              "      <td>0.999</td>\n",
              "      <td>0.557</td>\n",
              "      <td>0.322</td>\n",
              "      <td>0.298</td>\n",
              "    </tr>\n",
              "  </tbody>\n",
              "</table>\n",
              "</div>"
            ],
            "text/plain": [
              "   Overall rank Country or region  ...  Generosity  Perceptions of corruption\n",
              "0             1           Finland  ...       0.153                      0.393\n",
              "1             2           Denmark  ...       0.252                      0.410\n",
              "2             3            Norway  ...       0.271                      0.341\n",
              "3             4           Iceland  ...       0.354                      0.118\n",
              "4             5       Netherlands  ...       0.322                      0.298\n",
              "\n",
              "[5 rows x 9 columns]"
            ]
          },
          "metadata": {
            "tags": []
          },
          "execution_count": 55
        }
      ]
    },
    {
      "cell_type": "code",
      "metadata": {
        "id": "w-0FhHn4QBlJ",
        "colab_type": "code",
        "colab": {
          "base_uri": "https://localhost:8080/",
          "height": 206
        },
        "outputId": "e7c8a264-fb0e-4427-dc99-4628cb588fe5"
      },
      "source": [
        "#Drop useless columns   \n",
        "useless_cols = [\"Overall rank\",\"Score\", \"Generosity\",\"Perceptions of corruption\"]\n",
        "happines_csv.drop(useless_cols, axis = 1, inplace = True)\n",
        "happines_csv.head()"
      ],
      "execution_count": 56,
      "outputs": [
        {
          "output_type": "execute_result",
          "data": {
            "text/html": [
              "<div>\n",
              "<style scoped>\n",
              "    .dataframe tbody tr th:only-of-type {\n",
              "        vertical-align: middle;\n",
              "    }\n",
              "\n",
              "    .dataframe tbody tr th {\n",
              "        vertical-align: top;\n",
              "    }\n",
              "\n",
              "    .dataframe thead th {\n",
              "        text-align: right;\n",
              "    }\n",
              "</style>\n",
              "<table border=\"1\" class=\"dataframe\">\n",
              "  <thead>\n",
              "    <tr style=\"text-align: right;\">\n",
              "      <th></th>\n",
              "      <th>Country or region</th>\n",
              "      <th>GDP per capita</th>\n",
              "      <th>Social support</th>\n",
              "      <th>Healthy life expectancy</th>\n",
              "      <th>Freedom to make life choices</th>\n",
              "    </tr>\n",
              "  </thead>\n",
              "  <tbody>\n",
              "    <tr>\n",
              "      <th>0</th>\n",
              "      <td>Finland</td>\n",
              "      <td>1.340</td>\n",
              "      <td>1.587</td>\n",
              "      <td>0.986</td>\n",
              "      <td>0.596</td>\n",
              "    </tr>\n",
              "    <tr>\n",
              "      <th>1</th>\n",
              "      <td>Denmark</td>\n",
              "      <td>1.383</td>\n",
              "      <td>1.573</td>\n",
              "      <td>0.996</td>\n",
              "      <td>0.592</td>\n",
              "    </tr>\n",
              "    <tr>\n",
              "      <th>2</th>\n",
              "      <td>Norway</td>\n",
              "      <td>1.488</td>\n",
              "      <td>1.582</td>\n",
              "      <td>1.028</td>\n",
              "      <td>0.603</td>\n",
              "    </tr>\n",
              "    <tr>\n",
              "      <th>3</th>\n",
              "      <td>Iceland</td>\n",
              "      <td>1.380</td>\n",
              "      <td>1.624</td>\n",
              "      <td>1.026</td>\n",
              "      <td>0.591</td>\n",
              "    </tr>\n",
              "    <tr>\n",
              "      <th>4</th>\n",
              "      <td>Netherlands</td>\n",
              "      <td>1.396</td>\n",
              "      <td>1.522</td>\n",
              "      <td>0.999</td>\n",
              "      <td>0.557</td>\n",
              "    </tr>\n",
              "  </tbody>\n",
              "</table>\n",
              "</div>"
            ],
            "text/plain": [
              "  Country or region  ...  Freedom to make life choices\n",
              "0           Finland  ...                         0.596\n",
              "1           Denmark  ...                         0.592\n",
              "2            Norway  ...                         0.603\n",
              "3           Iceland  ...                         0.591\n",
              "4       Netherlands  ...                         0.557\n",
              "\n",
              "[5 rows x 5 columns]"
            ]
          },
          "metadata": {
            "tags": []
          },
          "execution_count": 56
        }
      ]
    },
    {
      "cell_type": "code",
      "metadata": {
        "id": "xy4-E5jEQGuA",
        "colab_type": "code",
        "colab": {
          "base_uri": "https://localhost:8080/",
          "height": 238
        },
        "outputId": "09db81b5-a807-43fc-d859-584f3260b1a4"
      },
      "source": [
        "#Changing the indices of the dataframe \n",
        "happines_csv.set_index(\"Country or region\", inplace = True)\n",
        "happines_csv.head()"
      ],
      "execution_count": 57,
      "outputs": [
        {
          "output_type": "execute_result",
          "data": {
            "text/html": [
              "<div>\n",
              "<style scoped>\n",
              "    .dataframe tbody tr th:only-of-type {\n",
              "        vertical-align: middle;\n",
              "    }\n",
              "\n",
              "    .dataframe tbody tr th {\n",
              "        vertical-align: top;\n",
              "    }\n",
              "\n",
              "    .dataframe thead th {\n",
              "        text-align: right;\n",
              "    }\n",
              "</style>\n",
              "<table border=\"1\" class=\"dataframe\">\n",
              "  <thead>\n",
              "    <tr style=\"text-align: right;\">\n",
              "      <th></th>\n",
              "      <th>GDP per capita</th>\n",
              "      <th>Social support</th>\n",
              "      <th>Healthy life expectancy</th>\n",
              "      <th>Freedom to make life choices</th>\n",
              "    </tr>\n",
              "    <tr>\n",
              "      <th>Country or region</th>\n",
              "      <th></th>\n",
              "      <th></th>\n",
              "      <th></th>\n",
              "      <th></th>\n",
              "    </tr>\n",
              "  </thead>\n",
              "  <tbody>\n",
              "    <tr>\n",
              "      <th>Finland</th>\n",
              "      <td>1.340</td>\n",
              "      <td>1.587</td>\n",
              "      <td>0.986</td>\n",
              "      <td>0.596</td>\n",
              "    </tr>\n",
              "    <tr>\n",
              "      <th>Denmark</th>\n",
              "      <td>1.383</td>\n",
              "      <td>1.573</td>\n",
              "      <td>0.996</td>\n",
              "      <td>0.592</td>\n",
              "    </tr>\n",
              "    <tr>\n",
              "      <th>Norway</th>\n",
              "      <td>1.488</td>\n",
              "      <td>1.582</td>\n",
              "      <td>1.028</td>\n",
              "      <td>0.603</td>\n",
              "    </tr>\n",
              "    <tr>\n",
              "      <th>Iceland</th>\n",
              "      <td>1.380</td>\n",
              "      <td>1.624</td>\n",
              "      <td>1.026</td>\n",
              "      <td>0.591</td>\n",
              "    </tr>\n",
              "    <tr>\n",
              "      <th>Netherlands</th>\n",
              "      <td>1.396</td>\n",
              "      <td>1.522</td>\n",
              "      <td>0.999</td>\n",
              "      <td>0.557</td>\n",
              "    </tr>\n",
              "  </tbody>\n",
              "</table>\n",
              "</div>"
            ],
            "text/plain": [
              "                   GDP per capita  ...  Freedom to make life choices\n",
              "Country or region                  ...                              \n",
              "Finland                     1.340  ...                         0.596\n",
              "Denmark                     1.383  ...                         0.592\n",
              "Norway                      1.488  ...                         0.603\n",
              "Iceland                     1.380  ...                         0.591\n",
              "Netherlands                 1.396  ...                         0.557\n",
              "\n",
              "[5 rows x 4 columns]"
            ]
          },
          "metadata": {
            "tags": []
          },
          "execution_count": 57
        }
      ]
    },
    {
      "cell_type": "code",
      "metadata": {
        "id": "FU1_OIWBQLj-",
        "colab_type": "code",
        "colab": {
          "base_uri": "https://localhost:8080/",
          "height": 206
        },
        "outputId": "85111028-872c-40f7-f6b6-7b0aa2d05a66"
      },
      "source": [
        "#Joining the two Datasets \n",
        "data = Corona_data.join(happines_csv, how = \"inner\")\n",
        "data.head()"
      ],
      "execution_count": 58,
      "outputs": [
        {
          "output_type": "execute_result",
          "data": {
            "text/html": [
              "<div>\n",
              "<style scoped>\n",
              "    .dataframe tbody tr th:only-of-type {\n",
              "        vertical-align: middle;\n",
              "    }\n",
              "\n",
              "    .dataframe tbody tr th {\n",
              "        vertical-align: top;\n",
              "    }\n",
              "\n",
              "    .dataframe thead th {\n",
              "        text-align: right;\n",
              "    }\n",
              "</style>\n",
              "<table border=\"1\" class=\"dataframe\">\n",
              "  <thead>\n",
              "    <tr style=\"text-align: right;\">\n",
              "      <th></th>\n",
              "      <th>max_infection_rate</th>\n",
              "      <th>GDP per capita</th>\n",
              "      <th>Social support</th>\n",
              "      <th>Healthy life expectancy</th>\n",
              "      <th>Freedom to make life choices</th>\n",
              "    </tr>\n",
              "  </thead>\n",
              "  <tbody>\n",
              "    <tr>\n",
              "      <th>Afghanistan</th>\n",
              "      <td>232.0</td>\n",
              "      <td>0.350</td>\n",
              "      <td>0.517</td>\n",
              "      <td>0.361</td>\n",
              "      <td>0.000</td>\n",
              "    </tr>\n",
              "    <tr>\n",
              "      <th>Albania</th>\n",
              "      <td>34.0</td>\n",
              "      <td>0.947</td>\n",
              "      <td>0.848</td>\n",
              "      <td>0.874</td>\n",
              "      <td>0.383</td>\n",
              "    </tr>\n",
              "    <tr>\n",
              "      <th>Algeria</th>\n",
              "      <td>199.0</td>\n",
              "      <td>1.002</td>\n",
              "      <td>1.160</td>\n",
              "      <td>0.785</td>\n",
              "      <td>0.086</td>\n",
              "    </tr>\n",
              "    <tr>\n",
              "      <th>Argentina</th>\n",
              "      <td>291.0</td>\n",
              "      <td>1.092</td>\n",
              "      <td>1.432</td>\n",
              "      <td>0.881</td>\n",
              "      <td>0.471</td>\n",
              "    </tr>\n",
              "    <tr>\n",
              "      <th>Armenia</th>\n",
              "      <td>134.0</td>\n",
              "      <td>0.850</td>\n",
              "      <td>1.055</td>\n",
              "      <td>0.815</td>\n",
              "      <td>0.283</td>\n",
              "    </tr>\n",
              "  </tbody>\n",
              "</table>\n",
              "</div>"
            ],
            "text/plain": [
              "             max_infection_rate  ...  Freedom to make life choices\n",
              "Afghanistan               232.0  ...                         0.000\n",
              "Albania                    34.0  ...                         0.383\n",
              "Algeria                   199.0  ...                         0.086\n",
              "Argentina                 291.0  ...                         0.471\n",
              "Armenia                   134.0  ...                         0.283\n",
              "\n",
              "[5 rows x 5 columns]"
            ]
          },
          "metadata": {
            "tags": []
          },
          "execution_count": 58
        }
      ]
    },
    {
      "cell_type": "code",
      "metadata": {
        "id": "LP1PADkBO6Sq",
        "colab_type": "code",
        "colab": {
          "base_uri": "https://localhost:8080/",
          "height": 36
        },
        "outputId": "dfd7bcca-9510-40fa-fd9b-ca5ecfc970e3"
      },
      "source": [
        "data.index[59]"
      ],
      "execution_count": 103,
      "outputs": [
        {
          "output_type": "execute_result",
          "data": {
            "application/vnd.google.colaboratory.intrinsic": {
              "type": "string"
            },
            "text/plain": [
              "'Iraq'"
            ]
          },
          "metadata": {
            "tags": []
          },
          "execution_count": 103
        }
      ]
    },
    {
      "cell_type": "code",
      "metadata": {
        "id": "VB7kVEsXQIcz",
        "colab_type": "code",
        "colab": {
          "base_uri": "https://localhost:8080/",
          "height": 35
        },
        "outputId": "369a8196-e256-47bf-e6c7-bb5f171f93dc"
      },
      "source": [
        "data.loc[data['max_infection_rate'] == 269.000].index"
      ],
      "execution_count": 87,
      "outputs": [
        {
          "output_type": "execute_result",
          "data": {
            "text/plain": [
              "Index(['Egypt'], dtype='object')"
            ]
          },
          "metadata": {
            "tags": []
          },
          "execution_count": 87
        }
      ]
    },
    {
      "cell_type": "code",
      "metadata": {
        "id": "e66avWC4VC28",
        "colab_type": "code",
        "colab": {
          "base_uri": "https://localhost:8080/",
          "height": 206
        },
        "outputId": "f11978ce-37f0-449e-bc71-79414b39ec29"
      },
      "source": [
        "#Check the correlation matrix \n",
        "data.corr()"
      ],
      "execution_count": 60,
      "outputs": [
        {
          "output_type": "execute_result",
          "data": {
            "text/html": [
              "<div>\n",
              "<style scoped>\n",
              "    .dataframe tbody tr th:only-of-type {\n",
              "        vertical-align: middle;\n",
              "    }\n",
              "\n",
              "    .dataframe tbody tr th {\n",
              "        vertical-align: top;\n",
              "    }\n",
              "\n",
              "    .dataframe thead th {\n",
              "        text-align: right;\n",
              "    }\n",
              "</style>\n",
              "<table border=\"1\" class=\"dataframe\">\n",
              "  <thead>\n",
              "    <tr style=\"text-align: right;\">\n",
              "      <th></th>\n",
              "      <th>max_infection_rate</th>\n",
              "      <th>GDP per capita</th>\n",
              "      <th>Social support</th>\n",
              "      <th>Healthy life expectancy</th>\n",
              "      <th>Freedom to make life choices</th>\n",
              "    </tr>\n",
              "  </thead>\n",
              "  <tbody>\n",
              "    <tr>\n",
              "      <th>max_infection_rate</th>\n",
              "      <td>1.000000</td>\n",
              "      <td>0.250118</td>\n",
              "      <td>0.191958</td>\n",
              "      <td>0.289263</td>\n",
              "      <td>0.078196</td>\n",
              "    </tr>\n",
              "    <tr>\n",
              "      <th>GDP per capita</th>\n",
              "      <td>0.250118</td>\n",
              "      <td>1.000000</td>\n",
              "      <td>0.759468</td>\n",
              "      <td>0.863062</td>\n",
              "      <td>0.394603</td>\n",
              "    </tr>\n",
              "    <tr>\n",
              "      <th>Social support</th>\n",
              "      <td>0.191958</td>\n",
              "      <td>0.759468</td>\n",
              "      <td>1.000000</td>\n",
              "      <td>0.765286</td>\n",
              "      <td>0.456246</td>\n",
              "    </tr>\n",
              "    <tr>\n",
              "      <th>Healthy life expectancy</th>\n",
              "      <td>0.289263</td>\n",
              "      <td>0.863062</td>\n",
              "      <td>0.765286</td>\n",
              "      <td>1.000000</td>\n",
              "      <td>0.427892</td>\n",
              "    </tr>\n",
              "    <tr>\n",
              "      <th>Freedom to make life choices</th>\n",
              "      <td>0.078196</td>\n",
              "      <td>0.394603</td>\n",
              "      <td>0.456246</td>\n",
              "      <td>0.427892</td>\n",
              "      <td>1.000000</td>\n",
              "    </tr>\n",
              "  </tbody>\n",
              "</table>\n",
              "</div>"
            ],
            "text/plain": [
              "                              max_infection_rate  ...  Freedom to make life choices\n",
              "max_infection_rate                      1.000000  ...                      0.078196\n",
              "GDP per capita                          0.250118  ...                      0.394603\n",
              "Social support                          0.191958  ...                      0.456246\n",
              "Healthy life expectancy                 0.289263  ...                      0.427892\n",
              "Freedom to make life choices            0.078196  ...                      1.000000\n",
              "\n",
              "[5 rows x 5 columns]"
            ]
          },
          "metadata": {
            "tags": []
          },
          "execution_count": 60
        }
      ]
    },
    {
      "cell_type": "code",
      "metadata": {
        "id": "3m3EPTbWVstL",
        "colab_type": "code",
        "colab": {
          "base_uri": "https://localhost:8080/",
          "height": 297
        },
        "outputId": "58d40ce6-544d-43b2-c1b4-be0dc395f9b3"
      },
      "source": [
        "#Plotting GDP vs maximum infection rate \n",
        "x = data[\"GDP per capita\"]\n",
        "y = data[\"max_infection_rate\"]\n",
        "sns.scatterplot(x,np.log(y))"
      ],
      "execution_count": 61,
      "outputs": [
        {
          "output_type": "execute_result",
          "data": {
            "text/plain": [
              "<matplotlib.axes._subplots.AxesSubplot at 0x7f5f5ffa3780>"
            ]
          },
          "metadata": {
            "tags": []
          },
          "execution_count": 61
        },
        {
          "output_type": "display_data",
          "data": {
            "image/png": "[encoded data removed]",
            "text/plain": [
              "<Figure size 432x288 with 1 Axes>"
            ]
          },
          "metadata": {
            "tags": [],
            "needs_background": "light"
          }
        }
      ]
    },
    {
      "cell_type": "code",
      "metadata": {
        "id": "MRauSW0OhgVp",
        "colab_type": "code",
        "colab": {
          "base_uri": "https://localhost:8080/",
          "height": 297
        },
        "outputId": "1727e5e8-d940-47f0-e9c1-4278cfb6d57c"
      },
      "source": [
        "sns.regplot(x,np.log(y))"
      ],
      "execution_count": 62,
      "outputs": [
        {
          "output_type": "execute_result",
          "data": {
            "text/plain": [
              "<matplotlib.axes._subplots.AxesSubplot at 0x7f5f5feaf9b0>"
            ]
          },
          "metadata": {
            "tags": []
          },
          "execution_count": 62
        },
        {
          "output_type": "display_data",
          "data": {
            "image/png": "[encoded data removed]",
            "text/plain": [
              "<Figure size 432x288 with 1 Axes>"
            ]
          },
          "metadata": {
            "tags": [],
            "needs_background": "light"
          }
        }
      ]
    },
    {
      "cell_type": "code",
      "metadata": {
        "id": "7E9EO88UNLN3",
        "colab_type": "code",
        "colab": {
          "base_uri": "https://localhost:8080/",
          "height": 297
        },
        "outputId": "d4a44333-fd09-4736-9c65-7ba5cf75e532"
      },
      "source": [
        "#Plotting Social support vs maximum infection rate \n",
        "x1 = data[\"Social support\"]\n",
        "sns.scatterplot(x1,np.log(y))"
      ],
      "execution_count": 63,
      "outputs": [
        {
          "output_type": "execute_result",
          "data": {
            "text/plain": [
              "<matplotlib.axes._subplots.AxesSubplot at 0x7f5f61c89160>"
            ]
          },
          "metadata": {
            "tags": []
          },
          "execution_count": 63
        },
        {
          "output_type": "display_data",
          "data": {
            "image/png": "[encoded data removed]",
            "text/plain": [
              "<Figure size 432x288 with 1 Axes>"
            ]
          },
          "metadata": {
            "tags": [],
            "needs_background": "light"
          }
        }
      ]
    },
    {
      "cell_type": "code",
      "metadata": {
        "id": "t2EDy6kSNWdu",
        "colab_type": "code",
        "colab": {
          "base_uri": "https://localhost:8080/",
          "height": 297
        },
        "outputId": "3eaa694d-aded-4be9-ece4-c9ef32005a1b"
      },
      "source": [
        "sns.regplot(x1,np.log(y))"
      ],
      "execution_count": 64,
      "outputs": [
        {
          "output_type": "execute_result",
          "data": {
            "text/plain": [
              "<matplotlib.axes._subplots.AxesSubplot at 0x7f5f5fe74438>"
            ]
          },
          "metadata": {
            "tags": []
          },
          "execution_count": 64
        },
        {
          "output_type": "display_data",
          "data": {
            "image/png": "[encoded data removed]",
            "text/plain": [
              "<Figure size 432x288 with 1 Axes>"
            ]
          },
          "metadata": {
            "tags": [],
            "needs_background": "light"
          }
        }
      ]
    },
    {
      "cell_type": "code",
      "metadata": {
        "id": "XjWTBKlvNdMe",
        "colab_type": "code",
        "colab": {
          "base_uri": "https://localhost:8080/",
          "height": 297
        },
        "outputId": "eee9193c-fffe-4051-86bf-fd808313d562"
      },
      "source": [
        "#Plotting Healthy life expectancy vs maximum infection rate \n",
        "x2 = data[\"Healthy life expectancy\"]\n",
        "sns.scatterplot(x2,np.log(y))"
      ],
      "execution_count": 65,
      "outputs": [
        {
          "output_type": "execute_result",
          "data": {
            "text/plain": [
              "<matplotlib.axes._subplots.AxesSubplot at 0x7f5f5fd68f28>"
            ]
          },
          "metadata": {
            "tags": []
          },
          "execution_count": 65
        },
        {
          "output_type": "display_data",
          "data": {
            "image/png": "[encoded data removed]",
            "text/plain": [
              "<Figure size 432x288 with 1 Axes>"
            ]
          },
          "metadata": {
            "tags": [],
            "needs_background": "light"
          }
        }
      ]
    },
    {
      "cell_type": "code",
      "metadata": {
        "id": "4rk-wSsSNp3K",
        "colab_type": "code",
        "colab": {
          "base_uri": "https://localhost:8080/",
          "height": 297
        },
        "outputId": "a022057c-9048-4e79-a434-6364b6fc6d32"
      },
      "source": [
        "sns.regplot(x2,np.log(y))"
      ],
      "execution_count": 66,
      "outputs": [
        {
          "output_type": "execute_result",
          "data": {
            "text/plain": [
              "<matplotlib.axes._subplots.AxesSubplot at 0x7f5f5fd43240>"
            ]
          },
          "metadata": {
            "tags": []
          },
          "execution_count": 66
        },
        {
          "output_type": "display_data",
          "data": {
            "image/png": "[encoded data removed]",
            "text/plain": [
              "<Figure size 432x288 with 1 Axes>"
            ]
          },
          "metadata": {
            "tags": [],
            "needs_background": "light"
          }
        }
      ]
    },
    {
      "cell_type": "code",
      "metadata": {
        "id": "UJsBBxTnN1OL",
        "colab_type": "code",
        "colab": {
          "base_uri": "https://localhost:8080/",
          "height": 297
        },
        "outputId": "f5b13233-d6d3-4f40-f053-f2058dd1aa2b"
      },
      "source": [
        "\n",
        "#Plotting Freedom to make life choices vs maximum infection rate \n",
        "x3 = data[\"Freedom to make life choices\"]\n",
        "sns.scatterplot(x3,np.log(y))"
      ],
      "execution_count": 67,
      "outputs": [
        {
          "output_type": "execute_result",
          "data": {
            "text/plain": [
              "<matplotlib.axes._subplots.AxesSubplot at 0x7f5f5fd25be0>"
            ]
          },
          "metadata": {
            "tags": []
          },
          "execution_count": 67
        },
        {
          "output_type": "display_data",
          "data": {
            "image/png": "[encoded data removed]",
            "text/plain": [
              "<Figure size 432x288 with 1 Axes>"
            ]
          },
          "metadata": {
            "tags": [],
            "needs_background": "light"
          }
        }
      ]
    },
    {
      "cell_type": "code",
      "metadata": {
        "id": "PC_cYuOWN_WO",
        "colab_type": "code",
        "colab": {
          "base_uri": "https://localhost:8080/",
          "height": 297
        },
        "outputId": "5ef7dd26-a93b-411f-f135-ebd592e4ec57"
      },
      "source": [
        "sns.regplot(x3,np.log(y))"
      ],
      "execution_count": 68,
      "outputs": [
        {
          "output_type": "execute_result",
          "data": {
            "text/plain": [
              "<matplotlib.axes._subplots.AxesSubplot at 0x7f5f5fcdbdd8>"
            ]
          },
          "metadata": {
            "tags": []
          },
          "execution_count": 68
        },
        {
          "output_type": "display_data",
          "data": {
            "image/png": "[encoded data removed]",
            "text/plain": [
              "<Figure size 432x288 with 1 Axes>"
            ]
          },
          "metadata": {
            "tags": [],
            "needs_background": "light"
          }
        }
      ]
    },
    {
      "cell_type": "markdown",
      "metadata": {
        "id": "60VhNx86pXqz",
        "colab_type": "text"
      },
      "source": [
        "# **PCA**"
      ]
    },
    {
      "cell_type": "markdown",
      "metadata": {
        "id": "Hlu7Rf0FqFQC",
        "colab_type": "text"
      },
      "source": [
        "**In this section I'm trying to apply PCA on happiness dataset worldwide**"
      ]
    },
    {
      "cell_type": "code",
      "metadata": {
        "id": "kh5FlsP2ptpa",
        "colab_type": "code",
        "colab": {}
      },
      "source": [
        "from sklearn.decomposition import PCA \n",
        "from sklearn.preprocessing import StandardScaler \n",
        "%matplotlib inline"
      ],
      "execution_count": 69,
      "outputs": []
    },
    {
      "cell_type": "code",
      "metadata": {
        "id": "4Jb81szw2tA7",
        "colab_type": "code",
        "colab": {
          "base_uri": "https://localhost:8080/",
          "height": 363
        },
        "outputId": "939d6c82-834a-4d17-ef08-81797f2445f5"
      },
      "source": [
        "data.head(10)"
      ],
      "execution_count": 70,
      "outputs": [
        {
          "output_type": "execute_result",
          "data": {
            "text/html": [
              "<div>\n",
              "<style scoped>\n",
              "    .dataframe tbody tr th:only-of-type {\n",
              "        vertical-align: middle;\n",
              "    }\n",
              "\n",
              "    .dataframe tbody tr th {\n",
              "        vertical-align: top;\n",
              "    }\n",
              "\n",
              "    .dataframe thead th {\n",
              "        text-align: right;\n",
              "    }\n",
              "</style>\n",
              "<table border=\"1\" class=\"dataframe\">\n",
              "  <thead>\n",
              "    <tr style=\"text-align: right;\">\n",
              "      <th></th>\n",
              "      <th>max_infection_rate</th>\n",
              "      <th>GDP per capita</th>\n",
              "      <th>Social support</th>\n",
              "      <th>Healthy life expectancy</th>\n",
              "      <th>Freedom to make life choices</th>\n",
              "    </tr>\n",
              "  </thead>\n",
              "  <tbody>\n",
              "    <tr>\n",
              "      <th>Afghanistan</th>\n",
              "      <td>232.0</td>\n",
              "      <td>0.350</td>\n",
              "      <td>0.517</td>\n",
              "      <td>0.361</td>\n",
              "      <td>0.000</td>\n",
              "    </tr>\n",
              "    <tr>\n",
              "      <th>Albania</th>\n",
              "      <td>34.0</td>\n",
              "      <td>0.947</td>\n",
              "      <td>0.848</td>\n",
              "      <td>0.874</td>\n",
              "      <td>0.383</td>\n",
              "    </tr>\n",
              "    <tr>\n",
              "      <th>Algeria</th>\n",
              "      <td>199.0</td>\n",
              "      <td>1.002</td>\n",
              "      <td>1.160</td>\n",
              "      <td>0.785</td>\n",
              "      <td>0.086</td>\n",
              "    </tr>\n",
              "    <tr>\n",
              "      <th>Argentina</th>\n",
              "      <td>291.0</td>\n",
              "      <td>1.092</td>\n",
              "      <td>1.432</td>\n",
              "      <td>0.881</td>\n",
              "      <td>0.471</td>\n",
              "    </tr>\n",
              "    <tr>\n",
              "      <th>Armenia</th>\n",
              "      <td>134.0</td>\n",
              "      <td>0.850</td>\n",
              "      <td>1.055</td>\n",
              "      <td>0.815</td>\n",
              "      <td>0.283</td>\n",
              "    </tr>\n",
              "    <tr>\n",
              "      <th>Australia</th>\n",
              "      <td>497.0</td>\n",
              "      <td>1.372</td>\n",
              "      <td>1.548</td>\n",
              "      <td>1.036</td>\n",
              "      <td>0.557</td>\n",
              "    </tr>\n",
              "    <tr>\n",
              "      <th>Austria</th>\n",
              "      <td>1321.0</td>\n",
              "      <td>1.376</td>\n",
              "      <td>1.475</td>\n",
              "      <td>1.016</td>\n",
              "      <td>0.532</td>\n",
              "    </tr>\n",
              "    <tr>\n",
              "      <th>Azerbaijan</th>\n",
              "      <td>105.0</td>\n",
              "      <td>1.043</td>\n",
              "      <td>1.147</td>\n",
              "      <td>0.769</td>\n",
              "      <td>0.351</td>\n",
              "    </tr>\n",
              "    <tr>\n",
              "      <th>Bahrain</th>\n",
              "      <td>301.0</td>\n",
              "      <td>1.362</td>\n",
              "      <td>1.368</td>\n",
              "      <td>0.871</td>\n",
              "      <td>0.536</td>\n",
              "    </tr>\n",
              "    <tr>\n",
              "      <th>Bangladesh</th>\n",
              "      <td>641.0</td>\n",
              "      <td>0.562</td>\n",
              "      <td>0.928</td>\n",
              "      <td>0.723</td>\n",
              "      <td>0.527</td>\n",
              "    </tr>\n",
              "  </tbody>\n",
              "</table>\n",
              "</div>"
            ],
            "text/plain": [
              "             max_infection_rate  ...  Freedom to make life choices\n",
              "Afghanistan               232.0  ...                         0.000\n",
              "Albania                    34.0  ...                         0.383\n",
              "Algeria                   199.0  ...                         0.086\n",
              "Argentina                 291.0  ...                         0.471\n",
              "Armenia                   134.0  ...                         0.283\n",
              "Australia                 497.0  ...                         0.557\n",
              "Austria                  1321.0  ...                         0.532\n",
              "Azerbaijan                105.0  ...                         0.351\n",
              "Bahrain                   301.0  ...                         0.536\n",
              "Bangladesh                641.0  ...                         0.527\n",
              "\n",
              "[10 rows x 5 columns]"
            ]
          },
          "metadata": {
            "tags": []
          },
          "execution_count": 70
        }
      ]
    },
    {
      "cell_type": "code",
      "metadata": {
        "id": "4NGepBJG2aXd",
        "colab_type": "code",
        "colab": {}
      },
      "source": [
        "X = data.iloc[:,1:5].values \n",
        "Y = data.iloc[:,0].values"
      ],
      "execution_count": 71,
      "outputs": []
    },
    {
      "cell_type": "code",
      "metadata": {
        "id": "W2FR-8n52-a3",
        "colab_type": "code",
        "colab": {}
      },
      "source": [
        "# do the standardization to bring all the feature spaces with mean = 0 and variance = 1\n",
        "X_std = StandardScaler().fit_transform(X)"
      ],
      "execution_count": 72,
      "outputs": []
    },
    {
      "cell_type": "code",
      "metadata": {
        "id": "lag8iT3WiVVk",
        "colab_type": "code",
        "colab": {
          "base_uri": "https://localhost:8080/",
          "height": 206
        },
        "outputId": "5795d998-ffc8-4bfb-b859-f20b7b0b34ef"
      },
      "source": [
        "pca = PCA(n_components=2) \n",
        "# Here we can also give the percentage as a paramter to the PCA function as pca = PCA(.95). .95 means that we want to include 95% of the variance. Hence PCA will return the no of components which describe 95% of the variance. However we know from above computation that 2 components are enough so we have passed the 2 components.\n",
        "principalComponents = pca.fit_transform(X_std) \n",
        "principalDf = pd.DataFrame(data = principalComponents , columns = ['principal component 1', 'principal component 2'])\n",
        "principalDf.head(5) # prints the top 5 rows"
      ],
      "execution_count": 73,
      "outputs": [
        {
          "output_type": "execute_result",
          "data": {
            "text/html": [
              "<div>\n",
              "<style scoped>\n",
              "    .dataframe tbody tr th:only-of-type {\n",
              "        vertical-align: middle;\n",
              "    }\n",
              "\n",
              "    .dataframe tbody tr th {\n",
              "        vertical-align: top;\n",
              "    }\n",
              "\n",
              "    .dataframe thead th {\n",
              "        text-align: right;\n",
              "    }\n",
              "</style>\n",
              "<table border=\"1\" class=\"dataframe\">\n",
              "  <thead>\n",
              "    <tr style=\"text-align: right;\">\n",
              "      <th></th>\n",
              "      <th>principal component 1</th>\n",
              "      <th>principal component 2</th>\n",
              "    </tr>\n",
              "  </thead>\n",
              "  <tbody>\n",
              "    <tr>\n",
              "      <th>0</th>\n",
              "      <td>3.774764</td>\n",
              "      <td>1.484922</td>\n",
              "    </tr>\n",
              "    <tr>\n",
              "      <th>1</th>\n",
              "      <td>0.220367</td>\n",
              "      <td>0.118677</td>\n",
              "    </tr>\n",
              "    <tr>\n",
              "      <th>2</th>\n",
              "      <td>0.560376</td>\n",
              "      <td>2.065577</td>\n",
              "    </tr>\n",
              "    <tr>\n",
              "      <th>3</th>\n",
              "      <td>-1.221656</td>\n",
              "      <td>-0.109800</td>\n",
              "    </tr>\n",
              "    <tr>\n",
              "      <th>4</th>\n",
              "      <td>0.383447</td>\n",
              "      <td>0.702141</td>\n",
              "    </tr>\n",
              "  </tbody>\n",
              "</table>\n",
              "</div>"
            ],
            "text/plain": [
              "   principal component 1  principal component 2\n",
              "0               3.774764               1.484922\n",
              "1               0.220367               0.118677\n",
              "2               0.560376               2.065577\n",
              "3              -1.221656              -0.109800\n",
              "4               0.383447               0.702141"
            ]
          },
          "metadata": {
            "tags": []
          },
          "execution_count": 73
        }
      ]
    },
    {
      "cell_type": "code",
      "metadata": {
        "id": "uWQoZgK54Txk",
        "colab_type": "code",
        "colab": {
          "base_uri": "https://localhost:8080/",
          "height": 35
        },
        "outputId": "686645f7-db9f-4626-df2b-4b6de696d35d"
      },
      "source": [
        "principalComponents.shape"
      ],
      "execution_count": 74,
      "outputs": [
        {
          "output_type": "execute_result",
          "data": {
            "text/plain": [
              "(143, 2)"
            ]
          },
          "metadata": {
            "tags": []
          },
          "execution_count": 74
        }
      ]
    },
    {
      "cell_type": "code",
      "metadata": {
        "id": "GY7LM_ACR950",
        "colab_type": "code",
        "colab": {
          "base_uri": "https://localhost:8080/",
          "height": 35
        },
        "outputId": "ac00a4ef-33e5-452d-b7db-bc4c47f9d453"
      },
      "source": [
        "eg= principalComponents[38]\n",
        "print(eg)"
      ],
      "execution_count": 93,
      "outputs": [
        {
          "output_type": "stream",
          "text": [
            "[0.83753724 0.83515718]\n"
          ],
          "name": "stdout"
        }
      ]
    },
    {
      "cell_type": "markdown",
      "metadata": {
        "id": "HqoD8yJmaofz",
        "colab_type": "text"
      },
      "source": [
        "# **Note**\n",
        "we can get the sorted countries that are close to Egypt not just Iraq as one country "
      ]
    },
    {
      "cell_type": "code",
      "metadata": {
        "id": "w9py_mvjSJ2h",
        "colab_type": "code",
        "colab": {
          "base_uri": "https://localhost:8080/",
          "height": 35
        },
        "outputId": "9151fea9-20f2-4038-88be-cbbea8cc2ab1"
      },
      "source": [
        "##Applying L2 distance to get the colsest country to Egypt\n",
        "from scipy.spatial import distance\n",
        "def getcountry(df):\n",
        "  d_min = np.inf\n",
        "  min_i = 0\n",
        "  for index,i in enumerate(df):\n",
        "    d = distance.euclidean(df[38], i)\n",
        "    if d < d_min and index!=38 :\n",
        "      d_min = d\n",
        "      min_i = index\n",
        "  return d_min, min_i \n",
        "print(getcountry(principalComponents))"
      ],
      "execution_count": 102,
      "outputs": [
        {
          "output_type": "stream",
          "text": [
            "(0.0930068101093687, 59)\n"
          ],
          "name": "stdout"
        }
      ]
    },
    {
      "cell_type": "code",
      "metadata": {
        "id": "-3b9unoNaXET",
        "colab_type": "code",
        "colab": {
          "base_uri": "https://localhost:8080/",
          "height": 36
        },
        "outputId": "aa2e6b34-3802-445a-fb76-ce757ef260e3"
      },
      "source": [
        "data.index[59]  #Iraq is the closest country to Egypt "
      ],
      "execution_count": 104,
      "outputs": [
        {
          "output_type": "execute_result",
          "data": {
            "application/vnd.google.colaboratory.intrinsic": {
              "type": "string"
            },
            "text/plain": [
              "'Iraq'"
            ]
          },
          "metadata": {
            "tags": []
          },
          "execution_count": 104
        }
      ]
    },
    {
      "cell_type": "code",
      "metadata": {
        "id": "dZW_GSDdLJvd",
        "colab_type": "code",
        "colab": {
          "base_uri": "https://localhost:8080/",
          "height": 406
        },
        "outputId": "eb4ffedd-b319-4aee-fb91-43bc1769379b"
      },
      "source": [
        "plt.figure(figsize=(8,6))\n",
        "plt.scatter(principalComponents[:,0],principalComponents[:,1],c=data['max_infection_rate'])\n",
        "plt.xlabel('First principle component')\n",
        "plt.ylabel('Second principle component')"
      ],
      "execution_count": 75,
      "outputs": [
        {
          "output_type": "execute_result",
          "data": {
            "text/plain": [
              "Text(0, 0.5, 'Second principle component')"
            ]
          },
          "metadata": {
            "tags": []
          },
          "execution_count": 75
        },
        {
          "output_type": "display_data",
          "data": {
            "image/png": "[encoded data removed]",
            "text/plain": [
              "<Figure size 576x432 with 1 Axes>"
            ]
          },
          "metadata": {
            "tags": [],
            "needs_background": "light"
          }
        }
      ]
    },
    {
      "cell_type": "markdown",
      "metadata": {
        "id": "Row-MvILOS0b",
        "colab_type": "text"
      },
      "source": [
        "**PCA for hsppiness worldwide dataset**"
      ]
    },
    {
      "cell_type": "code",
      "metadata": {
        "id": "xDZP6VOjM1aK",
        "colab_type": "code",
        "colab": {}
      },
      "source": [
        "happiness= pd.read_csv(\"worldwide_happiness_report.csv\")\n",
        "#Changing the indices of the dataframe \n",
        "happiness.set_index(\"Country or region\", inplace = True)"
      ],
      "execution_count": 76,
      "outputs": []
    },
    {
      "cell_type": "code",
      "metadata": {
        "id": "cadX7LUWOb28",
        "colab_type": "code",
        "colab": {
          "base_uri": "https://localhost:8080/",
          "height": 35
        },
        "outputId": "fe242fb5-1176-450a-975b-e0cbfd293cb7"
      },
      "source": [
        "scaler=StandardScaler()\n",
        "scaler.fit(happiness)"
      ],
      "execution_count": 77,
      "outputs": [
        {
          "output_type": "execute_result",
          "data": {
            "text/plain": [
              "StandardScaler(copy=True, with_mean=True, with_std=True)"
            ]
          },
          "metadata": {
            "tags": []
          },
          "execution_count": 77
        }
      ]
    },
    {
      "cell_type": "code",
      "metadata": {
        "id": "l6IG_4glO_sQ",
        "colab_type": "code",
        "colab": {}
      },
      "source": [
        "scaled_data=scaler.transform(happiness)"
      ],
      "execution_count": 78,
      "outputs": []
    },
    {
      "cell_type": "code",
      "metadata": {
        "id": "Y2SIWfyCPHfa",
        "colab_type": "code",
        "colab": {
          "base_uri": "https://localhost:8080/",
          "height": 53
        },
        "outputId": "9be6bb93-439b-4d38-a64a-fa94375a4329"
      },
      "source": [
        "pca.fit(scaled_data)"
      ],
      "execution_count": 79,
      "outputs": [
        {
          "output_type": "execute_result",
          "data": {
            "text/plain": [
              "PCA(copy=True, iterated_power='auto', n_components=2, random_state=None,\n",
              "    svd_solver='auto', tol=0.0, whiten=False)"
            ]
          },
          "metadata": {
            "tags": []
          },
          "execution_count": 79
        }
      ]
    },
    {
      "cell_type": "code",
      "metadata": {
        "id": "bf7EgYwKPMKa",
        "colab_type": "code",
        "colab": {}
      },
      "source": [
        "x_pca=pca.transform(scaled_data)"
      ],
      "execution_count": 80,
      "outputs": []
    },
    {
      "cell_type": "code",
      "metadata": {
        "id": "zfl7bn-7PQGZ",
        "colab_type": "code",
        "colab": {
          "base_uri": "https://localhost:8080/",
          "height": 35
        },
        "outputId": "1e6bd58d-2657-4170-8fd9-237baad057af"
      },
      "source": [
        "scaled_data.shape"
      ],
      "execution_count": 81,
      "outputs": [
        {
          "output_type": "execute_result",
          "data": {
            "text/plain": [
              "(156, 8)"
            ]
          },
          "metadata": {
            "tags": []
          },
          "execution_count": 81
        }
      ]
    },
    {
      "cell_type": "code",
      "metadata": {
        "id": "8M5NMT4jPR2X",
        "colab_type": "code",
        "colab": {
          "base_uri": "https://localhost:8080/",
          "height": 35
        },
        "outputId": "c5c5f0fb-f726-404f-e68c-44108316d67d"
      },
      "source": [
        "x_pca.shape"
      ],
      "execution_count": 82,
      "outputs": [
        {
          "output_type": "execute_result",
          "data": {
            "text/plain": [
              "(156, 2)"
            ]
          },
          "metadata": {
            "tags": []
          },
          "execution_count": 82
        }
      ]
    }
  ]
}